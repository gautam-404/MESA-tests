{
 "cells": [
  {
   "cell_type": "code",
   "execution_count": 1,
   "metadata": {},
   "outputs": [],
   "source": [
    "import matplotlib.pyplot as plt\n",
    "import matplotlib as mpl\n",
    "import seaborn as sns\n",
    "import numpy as np\n",
    "from scipy.stats import linregress\n",
    "import pandas as pd\n",
    "import glob\n",
    "import os\n"
   ]
  },
  {
   "cell_type": "code",
   "execution_count": 2,
   "metadata": {},
   "outputs": [],
   "source": [
    "\n",
    "mpl.rcParams.update(mpl.rcParamsDefault)\n",
    "plt.rcParams[\"font.family\"] = \"serif\"\n",
    "plt.rcParams[\"font.serif\"] = [\"Times\"] + plt.rcParams[\"font.serif\"]\n",
    "mpl.rcParams['mathtext.fontset'] = 'stix'\n",
    "mpl.rcParams['mathtext.rm'] = 'Serif'\n",
    "mpl.rcParams['mathtext.it'] = 'Serif'\n",
    "mpl.rcParams['mathtext.bf'] = 'Serif'\n",
    "mpl.rcParams['text.usetex']= False\n",
    "plt.rc('axes', linewidth=2)\n",
    "plt.rc('font', weight='bold')"
   ]
  },
  {
   "attachments": {},
   "cell_type": "markdown",
   "metadata": {},
   "source": [
    "#### Get data from files and LOGS:"
   ]
  },
  {
   "cell_type": "code",
   "execution_count": 19,
   "metadata": {},
   "outputs": [],
   "source": [
    "def get_data(logs_dir):\n",
    "    freqs = []\n",
    "    profs = []\n",
    "    n_profs = []\n",
    "    # prof_index = pd.read_table(f\"{logs_dir}/profiles.index\", skiprows=1, sep='\\s+')\n",
    "    prof_index = np.loadtxt(f\"{logs_dir}/LOGS/profiles.index\", skiprows=1, dtype=int)\n",
    "\n",
    "    for f in sorted(glob.glob(f\"{logs_dir}/LOGS/profile*.data.GYRE\"), \n",
    "                    key=lambda x: int(os.path.basename(x).split('.')[0].split('profile')[1])):\n",
    "        profs.append(pd.read_table(f, skiprows=5, sep='\\s+'))\n",
    "        n_profs.append(int(f.split('profile')[-1].split('.')[0]))\n",
    "\n",
    "    for f in sorted(glob.glob(f\"{logs_dir}/LOGS/profile*-freqs.dat\"), \n",
    "                    key=lambda x: int(os.path.basename(x).split('.')[0].split('profile')[1].split('-')[0])):\n",
    "        freqs.append(pd.read_table(f, skiprows=5, sep='\\s+'))\n",
    "        \n",
    "    hist = pd.read_table(glob.glob(f\"{logs_dir}/LOGS/history.data\")[0], skiprows=5, sep='\\s+')\n",
    "\n",
    "    return hist, freqs, profs, n_profs, prof_index\n",
    "\n",
    "def get_evo_time(logs_dir):\n",
    "    with open(f'{logs_dir}/run.log', 'r') as f:\n",
    "        last_line = f.readlines()[-2]\n",
    "    evo_time = float(last_line.split(' ')[-2])\n",
    "    print(f\"Time taken: {evo_time} s\")\n",
    "    return evo_time"
   ]
  },
  {
   "attachments": {},
   "cell_type": "markdown",
   "metadata": {},
   "source": [
    "#### Fitting functions:"
   ]
  },
  {
   "cell_type": "code",
   "execution_count": 4,
   "metadata": {},
   "outputs": [],
   "source": [
    "def fit_radial(ts, degree=0):\n",
    "    \"\"\"\n",
    "    Fits a straight line to the radial mode frequencies. Optionally, can be used on non-radial modes.\n",
    "    Only modes with radial orders 5-9 are used, as the ridges should be vertical here.\n",
    "    \n",
    "    Input: Theoretical (or observed) spectrum in pandas df format; mode degree to be used (default 0 = radial)\n",
    "    Output: The length of the series used, and the slope, intercept, r_value, p_value, and std_err of the line.\n",
    "    \"\"\"\n",
    "    n_min, n_max = 5, 9\n",
    "    try:\n",
    "        vert_freqs = ts.query(\"n_g == 0\").query(f\"l=={degree}\").query(f\"n_pg>={n_min}\").query(f\"n_pg<={n_max}\")[[\"n_pg\",\"Re(freq)\"]].values\n",
    "    except:\n",
    "        vert_freqs = ts.query(f\"l_obs=={degree}\").query(f\"n_obs>={n_min}\").query(f\"n_obs<={n_max}\")[[\"n_obs\",\"f_obs\"]].values\n",
    "    if len(vert_freqs>0):\n",
    "        slope, intercept, r_value, p_value, std_err = linregress(vert_freqs[:,0], vert_freqs[:,1])\n",
    "    else:\n",
    "        slope, intercept, r_value, p_value, std_err = np.zeros(5)\n",
    "    return len(vert_freqs), slope, intercept, r_value, p_value, std_err\n",
    "\n",
    "def model_epsilon(ts):\n",
    "    \"\"\"\n",
    "    Calls the fit_radial function to determine the epsilon value for a star's pulsations.\n",
    "    \n",
    "    Input: Theoretical (or observed) spectrum in pandas df format.\n",
    "    Output: Epsilon\n",
    "    \"\"\"\n",
    "    length_rad, slope, intercept, r_value, p_value, std_err = fit_radial(ts, degree=0)\n",
    "    eps = intercept/slope\n",
    "    if length_rad < 3:\n",
    "        length_dip, slope, intercept, r_value, p_value, std_err = fit_radial(ts, degree=1)\n",
    "        if length_dip > length_rad:\n",
    "            eps = intercept/slope - 0.5 # take the ell=1 values and subtract 0.5 to equal epsilon (ell=0)\n",
    "    return np.round(eps, 3)\n",
    "\n",
    "def model_Dnu(ts):\n",
    "    \"\"\"\n",
    "    Calls the fit_radial function to determine the Delta nu value for a star's pulsations.\n",
    "    \n",
    "    Input: Theoretical (or observed) spectrum in pandas df format.\n",
    "    Output: Delta nu\n",
    "    \"\"\"\n",
    "    length_rad, slope, intercept, r_value, p_value, std_err = fit_radial(ts, degree=0)\n",
    "    if length_rad < 3:\n",
    "        length_dip, slope, intercept, r_value, p_value, std_err = fit_radial(ts, degree=1)\n",
    "        if length_rad > length_dip:\n",
    "            # redo radial\n",
    "            length_rad, slope, intercept, r_value, p_value, std_err = fit_radial(ts, degree=0)\n",
    "    Dnu = slope\n",
    "    return np.round(Dnu, 3)\n",
    "\n",
    "def get_fit(l, freq):\n",
    "    Dnu = model_Dnu(freq)\n",
    "    epsilon = model_epsilon(freq)\n",
    "    return Dnu, epsilon\n"
   ]
  },
  {
   "attachments": {},
   "cell_type": "markdown",
   "metadata": {},
   "source": [
    "#### Get evolutionary data from multiple LOGS:"
   ]
  },
  {
   "cell_type": "code",
   "execution_count": 23,
   "metadata": {},
   "outputs": [],
   "source": [
    "def get_evo_data(logs):\n",
    "    \"\"\"\n",
    "    Gets the evolutionary data for a list of logs directories.\n",
    "    \"\"\"\n",
    "    age, cno, pp, eps, dnu, L_nuc, M, Z, V, nets = [], [], [], [], [], [], [], [], [], []\n",
    "    for logs_dir in logs:\n",
    "        hist, freqs, profs, n_profs, prof_index = get_data(logs_dir)\n",
    "        models = [i[0] for i in prof_index if i[2] in n_profs]\n",
    "        age_i = []\n",
    "        cno_i = []\n",
    "        pp_i = []\n",
    "        L_nuc_i = []\n",
    "        eps_i = []\n",
    "        dnu_i = []\n",
    "        print(logs_dir)\n",
    "        M.append(logs_dir.split('/')[-1].split('_')[0].split('m')[-1])\n",
    "        Z.append(logs_dir.split('/')[-1].split('_')[1].split('z')[-1])\n",
    "        V.append(logs_dir.split('/')[-1].split('_')[2].split('v')[-1])\n",
    "        nets.append(logs_dir.split('/')[-1].split('_')[3].split('net')[-1])\n",
    "        for i in range(len(freqs)):\n",
    "            Dnu, epsilon = get_fit(0, freqs[i])\n",
    "            eps_i.append(epsilon)\n",
    "            age_i.append(hist[hist.model_number == models[i]]['star_age']/1e6)\n",
    "            dnu_i.append(Dnu)\n",
    "            cno_i.append(hist[hist.model_number == models[i]]['cno'].values[0])\n",
    "            pp_i.append(hist[hist.model_number == models[i]]['pp'].values[0])\n",
    "            L_nuc_i.append(hist[hist.model_number == models[i]]['log_Lnuc'].values[0])\n",
    "        age.append(age_i)\n",
    "        cno.append(cno_i)\n",
    "        pp.append(pp_i)\n",
    "        eps.append(eps_i)\n",
    "        dnu.append(dnu_i)\n",
    "        L_nuc.append(L_nuc_i)\n",
    "    return age, cno, pp, eps, dnu, L_nuc, M, Z, V, nets\n",
    "\n",
    "logs = sorted(glob.glob(\"test/m*\"))\n",
    "age, cno, pp, eps, dnu, L_nuc, M, Z, V, nets = get_evo_data(logs)"
   ]
  },
  {
   "attachments": {},
   "cell_type": "markdown",
   "metadata": {},
   "source": [
    "#### Run time comparison:"
   ]
  },
  {
   "cell_type": "code",
   "execution_count": 10,
   "metadata": {},
   "outputs": [],
   "source": [
    "# M = [1.2, 1.5, 1.8, 2, 2.2]\n",
    "# evo_times_basic = []\n",
    "# evo_times_pp_cno = []\n",
    "# for i in range(len(logs)):\n",
    "#     if i%2==0:\n",
    "#         evo_times_pp_cno.append(get_evo_time(logs[i]))\n",
    "#     else:\n",
    "#         evo_times_basic.append(get_evo_time(logs[i]))\n",
    "\n",
    "# plt.scatter(M, evo_times_basic, label=\"basic.net\")\n",
    "# plt.plot(M, evo_times_basic)\n",
    "# plt.scatter(M, evo_times_pp_cno, label=\"pp_cno.net\")\n",
    "# plt.plot(M, evo_times_pp_cno)\n",
    "# plt.xlabel(r\"$M/M_\\odot$\", fontsize=14)\n",
    "# plt.ylabel(r\"$t_{\\rm{run}}$ (s)\", fontsize=14)\n",
    "# plt.title(\"Runtime vs. Initial Mass\", fontsize=14)\n",
    "# plt.legend()\n",
    "# plt.savefig('evo_time.png', dpi=300)"
   ]
  },
  {
   "attachments": {},
   "cell_type": "markdown",
   "metadata": {},
   "source": [
    "#### L_cno and L_pp comparison for different nets"
   ]
  },
  {
   "cell_type": "code",
   "execution_count": 22,
   "metadata": {},
   "outputs": [
    {
     "data": {
      "text/plain": [
       "Text(0.5, 0.98, 'M = 1.2 $M_\\\\odot$, Z = 0.02')"
      ]
     },
     "execution_count": 22,
     "metadata": {},
     "output_type": "execute_result"
    },
    {
     "data": {
      "image/png": "[encoded data removed]",
      "text/plain": [
       "<Figure size 640x480 with 3 Axes>"
      ]
     },
     "metadata": {},
     "output_type": "display_data"
    }
   ],
   "source": [
    "fig, axes = plt.subplots(nrows=3, ncols=1)\n",
    "ax1 = axes[0]\n",
    "ax2 = axes[1] \n",
    "ax3 = axes[2]\n",
    "\n",
    "M_sample = [1.2, 2.2]\n",
    "Z_sample = [0.001, 0.026]\n",
    "V_sample = [0, 18]\n",
    "nets_sample = ['basic', 'cno_extras', 'hot_cno', 'pp_and_cno_extras', 'pp_extras']\n",
    "\n",
    "k = 1\n",
    "k *= 4\n",
    "for i in range(0, len(nets_sample)):\n",
    "    # i += k\n",
    "    ax1.plot(age[i], 10**np.array(pp[i]), label=nets[i])\n",
    "    ax2.plot(age[i], 10**np.array(cno[i]), label=nets[i])\n",
    "    ax3.plot(age[i], 10**np.array(L_nuc[i]), label=nets[i])\n",
    "ax1.set_ylabel(r'$\\frac{L_{pp}}{L_{\\odot}}$', fontsize=25)\n",
    "ax2.set_ylabel(r'$\\frac{L_{CNO}}{L_{\\odot}}$', fontsize=25)\n",
    "ax3.set_ylabel(r'$\\frac{L_{nuc}}{L_{\\odot}}$', fontsize=25)\n",
    "plt.xlabel(r'$Age,\\ Myr$', fontsize=15)\n",
    "ax1.set_xticklabels([])\n",
    "plt.subplots_adjust(wspace=0, hspace=0.05)\n",
    "ax1.grid(alpha=0.5)\n",
    "ax2.grid(alpha=0.5)\n",
    "ax3.grid(alpha=0.5)\n",
    "plt.legend()\n",
    "fig.suptitle(f\"M = {M[i]} $M_\\odot$, Z = {0.02}\", fontsize=15)\n",
    "# ax1.set_xlim(6, 30)\n",
    "# ax2.set_xlim(6, 30)\n",
    "# ax3.set_xlim(6, 30)\n",
    "\n",
    "# plt.savefig('pp_cno.png', dpi=300)"
   ]
  },
  {
   "cell_type": "code",
   "execution_count": null,
   "metadata": {},
   "outputs": [],
   "source": [
    "get_evo_time(logs)"
   ]
  },
  {
   "cell_type": "code",
   "execution_count": null,
   "metadata": {},
   "outputs": [],
   "source": []
  }
 ],
 "metadata": {
  "kernelspec": {
   "display_name": "Python 3 (ipykernel)",
   "language": "python",
   "name": "python3"
  },
  "language_info": {
   "codemirror_mode": {
    "name": "ipython",
    "version": 3
   },
   "file_extension": ".py",
   "mimetype": "text/x-python",
   "name": "python",
   "nbconvert_exporter": "python",
   "pygments_lexer": "ipython3",
   "version": "3.9.13"
  },
  "orig_nbformat": 4
 },
 "nbformat": 4,
 "nbformat_minor": 2
}

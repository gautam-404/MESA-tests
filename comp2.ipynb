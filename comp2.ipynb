{
 "cells": [
  {
   "cell_type": "code",
   "execution_count": 1,
   "metadata": {},
   "outputs": [],
   "source": [
    "import numpy as np\n",
    "import pandas as pd\n",
    "import glob\n",
    "import itertools\n",
    "\n",
    "from helper import *"
   ]
  },
  {
   "cell_type": "code",
   "execution_count": null,
   "metadata": {},
   "outputs": [],
   "source": [
    "log_dirs = glob.glob(\"test1/m1.7_z0.015_v0_var*_covergence\")\n",
    "\n",
    "M_sample = [1.7]\n",
    "Z_sample = [0.015]\n",
    "V_sample = [0]\n",
    "var_samples = [True, False]\n",
    "\n",
    "\n",
    "combinations = itertools.product(M_sample, Z_sample, V_sample, var_samples)\n",
    "data_dict = {}\n",
    "\n",
    "k = 0\n",
    "for m, z, v, var in combinations:\n",
    "    print(m, z, v, var)\n",
    "    key = f\"M={m}_Z={z}_V={v}_var={var}\"\n",
    "    hist, freqs, profs, n_profs, prof_index = get_data(log_dirs[k])\n",
    "    models = [i[0] for i in prof_index if i[2] in n_profs]\n",
    "    indexes = hist.index[hist.model_number.isin(models)]\n",
    "    ages = hist.star_age[indexes]/1e6\n",
    "    data_dict[key] = pd.DataFrame()\n",
    "    data_dict[key]['age'] = hist['star_age']/1e6\n",
    "    data_dict[key]['log_cntr_Rho'] = hist['log_cntr_Rho'].values\n",
    "    data_dict[key]['log_cntr_T'] = hist['log_cntr_T'].values\n",
    "    data_dict[key]['log_Teff'] = hist['log_Teff'].values\n",
    "    data_dict[key] = pd.merge(data_dict[key], get_freqs(freqs, ages, k), on=\"age\")\n",
    "    ages = np.arange(0, data_dict[key].iloc[-1][\"age\"], 0.1)\n",
    "    new_df = pd.DataFrame()\n",
    "    new_df[\"age\"] = ages\n",
    "    for column in data_dict[key].columns[1:]:\n",
    "        new_df[column] = interp(data_dict[key][\"age\"], data_dict[key][column], ages)\n",
    "    data_dict[key] = new_df\n",
    "    k += 1"
   ]
  }
 ],
 "metadata": {
  "kernelspec": {
   "display_name": "Python 3",
   "language": "python",
   "name": "python3"
  },
  "language_info": {
   "codemirror_mode": {
    "name": "ipython",
    "version": 3
   },
   "file_extension": ".py",
   "mimetype": "text/x-python",
   "name": "python",
   "nbconvert_exporter": "python",
   "pygments_lexer": "ipython3",
   "version": "3.11.3"
  },
  "orig_nbformat": 4
 },
 "nbformat": 4,
 "nbformat_minor": 2
}

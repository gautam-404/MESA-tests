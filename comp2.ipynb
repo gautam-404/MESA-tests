{
 "cells": [
  {
   "cell_type": "code",
   "execution_count": 1,
   "metadata": {},
   "outputs": [
    {
     "name": "stderr",
     "output_type": "stream",
     "text": [
      "/home/u1159830/.local/lib/python3.10/site-packages/tqdm/auto.py:21: TqdmWarning: IProgress not found. Please update jupyter and ipywidgets. See https://ipywidgets.readthedocs.io/en/stable/user_install.html\n",
      "  from .autonotebook import tqdm as notebook_tqdm\n"
     ]
    }
   ],
   "source": [
    "import numpy as np\n",
    "import pandas as pd\n",
    "import glob\n",
    "import itertools\n",
    "from scipy.interpolate import interp1d\n",
    "import matplotlib as mpl\n",
    "import matplotlib.pyplot as plt\n",
    "import seaborn as sns\n",
    "\n",
    "from src.helper import *"
   ]
  },
  {
   "cell_type": "code",
   "execution_count": 2,
   "metadata": {},
   "outputs": [],
   "source": [
    "def interp(x, y, age):\n",
    "    f = interp1d(x, y, fill_value=\"extrapolate\", kind=\"cubic\")\n",
    "    return f(age)\n",
    "\n",
    "mode_labels = [\"n1ell0m0\",\"n2ell0m0\",\"n3ell0m0\",\"n4ell0m0\",\"n5ell0m0\",\"n6ell0m0\",\"n7ell0m0\",\"n8ell0m0\",\"n9ell0m0\",\"n10ell0m0\",\n",
    "         \"n1ell1mm1\",\"n2ell1mm1\",\"n3ell1mm1\",\"n4ell1mm1\",\"n5ell1mm1\",\"n6ell1mm1\",\"n7ell1mm1\",\"n8ell1mm1\",\"n9ell1mm1\",\"n10ell1mm1\",\n",
    "         \"n1ell1m0\",\"n2ell1m0\",\"n3ell1m0\",\"n4ell1m0\",\"n5ell1m0\",\"n6ell1m0\",\"n7ell1m0\",\"n8ell1m0\",\"n9ell1m0\",\"n10ell1m0\",\n",
    "         \"n1ell1mp1\",\"n2ell1mp1\",\"n3ell1mp1\",\"n4ell1mp1\",\"n5ell1mp1\",\"n6ell1mp1\",\"n7ell1mp1\",\"n8ell1mp1\",\"n9ell1mp1\",\"n10ell1mp1\"]\n",
    "mode_strings = [\"100\",\"200\",\"300\",\"400\",\"500\",\"600\",\"700\",\"800\",\"900\",\"1000\",\n",
    "         \"11-1\",\"21-1\",\"31-1\",\"41-1\",\"51-1\",\"61-1\",\"71-1\",\"81-1\",\"91-1\",\"101-1\",\n",
    "         \"110\",\"210\",\"310\",\"410\",\"510\",\"610\",\"710\",\"810\",\"910\",\"1010\",\n",
    "         \"11-1\",\"21-1\",\"31-1\",\"41-1\",\"51-1\",\"61-1\",\"71-1\",\"81-1\",\"91-1\",\"101-1\"]\n",
    "\n",
    "def get_freqs(freqs, ages, ind):\n",
    "    dff = pd.DataFrame()\n",
    "    dff[\"Dnu\"] = np.repeat(0, len(freqs))\n",
    "    dff[\"eps\"] = np.repeat(0, len(freqs))\n",
    "    for s in mode_labels:\n",
    "        dff[s] = np.repeat(0, len(freqs))\n",
    "\n",
    "    freqs_df = []\n",
    "    for i, row in dff.iterrows():\n",
    "        df = row\n",
    "        ts = freqs[i]\n",
    "        ts = model_nlm(ts)\n",
    "        df[\"age\"] = ages.iloc[i]\n",
    "        df[\"Dnu\"] = model_Dnu(ts)\n",
    "        df[\"eps\"] = model_epsilon(ts)\n",
    "        for j,s in enumerate(mode_strings):\n",
    "            try:\n",
    "                df[mode_labels[j]] = np.round(ts.query(f\"nlm=='{s}'\")[\"Re(freq)\"].values[0],5)\n",
    "            except:\n",
    "                df[mode_labels[j]] = 0\n",
    "        freqs_df.append(df)\n",
    "\n",
    "    freqs_df = pd.DataFrame(freqs_df)\n",
    "\n",
    "    l = 1\n",
    "    for n in range(1, 11):\n",
    "        freqs_df[f\"n{n}ell{l}dfreq\"] = freqs_df[f\"n{n}ell{l}m0\"] - freqs_df[f\"n{n}ell{l}mm1\"]\n",
    "        freqs_df.drop(columns=[f\"n{n}ell{l}mp1\", f\"n{n}ell{l}mm1\"], inplace=True)\n",
    "    columns = ['age', 'Dnu', 'eps', 'n1ell0m0', 'n2ell0m0', 'n3ell0m0', 'n4ell0m0',\n",
    "    'n5ell0m0', 'n6ell0m0', 'n7ell0m0', 'n8ell0m0', 'n9ell0m0', 'n10ell0m0',\n",
    "    'n1ell1m0', 'n2ell1m0', 'n3ell1m0', 'n4ell1m0', 'n5ell1m0', 'n6ell1m0',\n",
    "    'n7ell1m0', 'n8ell1m0', 'n9ell1m0', 'n10ell1m0', 'n1ell1dfreq',\n",
    "    'n2ell1dfreq', 'n3ell1dfreq', 'n4ell1dfreq', 'n5ell1dfreq',\n",
    "    'n6ell1dfreq', 'n7ell1dfreq', 'n8ell1dfreq', 'n9ell1dfreq',\n",
    "    'n10ell1dfreq']\n",
    "    freqs_df = freqs_df[columns]\n",
    "    return freqs_df"
   ]
  },
  {
   "cell_type": "code",
   "execution_count": 3,
   "metadata": {},
   "outputs": [],
   "source": [
    "log_dirs = glob.glob(\"test1/*/LOGS\")\n",
    "m = [float(name.split(\"/\")[1].split(\"_\")[0].split(\"m\")[1]) for name in log_dirs]\n",
    "z = [float(name.split(\"/\")[1].split(\"_\")[1].split(\"z\")[1]) for name in log_dirs]\n",
    "v = [float(name.split(\"/\")[1].split(\"_\")[2].split(\"v\")[1]) for name in log_dirs]\n",
    "keys = [f\"M={m[i]}_Z={z[i]}_V={v[i]}\" for i in range(len(m))]\n",
    "inputs = pd.DataFrame(np.array([m, z, v, keys, log_dirs]).T, columns=['m', 'z', 'v', 'key', 'log_dir'])\n",
    "inputs = inputs.astype({'m': float, 'z': float, 'v': float, 'key': str, 'log_dir': str})\n",
    "inputs.sort_values(by='m', inplace=True)\n",
    "inputs.reset_index(drop=True, inplace=True)"
   ]
  },
  {
   "cell_type": "code",
   "execution_count": null,
   "metadata": {},
   "outputs": [],
   "source": []
  },
  {
   "cell_type": "code",
   "execution_count": 4,
   "metadata": {},
   "outputs": [],
   "source": [
    "def get_data_dict(test_inputs):\n",
    "    data_dict = {}\n",
    "    k = 0\n",
    "    for i, row in test_inputs.iterrows():\n",
    "        m, z, v, key, log_dir = row\n",
    "        print(row)\n",
    "        hist, freqs, profs, n_profs, prof_index = get_data(log_dir)\n",
    "        models = prof_index[prof_index.profile_number.isin(n_profs)].model_number\n",
    "        hist = hist[hist.model_number.isin(models)]\n",
    "        ages = hist.star_age/1e6\n",
    "        data_dict[key] = pd.DataFrame()\n",
    "        data_dict[key]['age'] = hist['star_age']/1e6\n",
    "        data_dict[key]['log_cntr_Rho'] = hist['log_cntr_Rho'].values\n",
    "        data_dict[key]['log_cntr_T'] = hist['log_cntr_T'].values\n",
    "        data_dict[key]['log_Teff'] = hist['log_Teff'].values\n",
    "        data_dict[key]['log_L'] = hist['log_L'].values\n",
    "        data_dict[key]['log_Lnuc'] = hist['log_Lnuc'].values\n",
    "        data_dict[key] = pd.merge(data_dict[key], get_freqs(freqs, ages, k), on=\"age\")\n",
    "        # ages = np.arange(0, data_dict[key].iloc[-1][\"age\"], 0.1)\n",
    "        # new_df = pd.DataFrame()\n",
    "        # new_df[\"age\"] = ages\n",
    "        # for column in data_dict[key].columns[1:]:\n",
    "        #     new_df[column] = interp(data_dict[key][\"age\"], data_dict[key][column], ages)\n",
    "        # data_dict[key] = new_df\n",
    "        k += 1\n",
    "    return data_dict"
   ]
  },
  {
   "cell_type": "code",
   "execution_count": null,
   "metadata": {},
   "outputs": [],
   "source": []
  },
  {
   "cell_type": "code",
   "execution_count": 9,
   "metadata": {},
   "outputs": [
    {
     "data": {
      "text/html": [
       "<pre style=\"white-space:pre;overflow-x:auto;line-height:normal;font-family:Menlo,'DejaVu Sans Mono',consolas,'Courier New',monospace\">m                                <span style=\"color: #008080; text-decoration-color: #008080; font-weight: bold\">2.1</span>\n",
       "z                              <span style=\"color: #008080; text-decoration-color: #008080; font-weight: bold\">0.001</span>\n",
       "v                                <span style=\"color: #008080; text-decoration-color: #008080; font-weight: bold\">0.0</span>\n",
       "key              <span style=\"color: #808000; text-decoration-color: #808000\">M</span>=<span style=\"color: #008080; text-decoration-color: #008080; font-weight: bold\">2.</span><span style=\"color: #808000; text-decoration-color: #808000\">1_Z</span>=<span style=\"color: #008080; text-decoration-color: #008080; font-weight: bold\">0.</span><span style=\"color: #808000; text-decoration-color: #808000\">001_V</span>=<span style=\"color: #008080; text-decoration-color: #008080; font-weight: bold\">0.0</span>\n",
       "log_dir    test1/m2.1_z0.001_v0/LOGS\n",
       "Name: <span style=\"color: #008080; text-decoration-color: #008080; font-weight: bold\">38</span>, dtype: object\n",
       "</pre>\n"
      ],
      "text/plain": [
       "m                                \u001b[1;36m2.1\u001b[0m\n",
       "z                              \u001b[1;36m0.001\u001b[0m\n",
       "v                                \u001b[1;36m0.0\u001b[0m\n",
       "key              \u001b[33mM\u001b[0m=\u001b[1;36m2\u001b[0m\u001b[1;36m.\u001b[0m\u001b[33m1_Z\u001b[0m=\u001b[1;36m0\u001b[0m\u001b[1;36m.\u001b[0m\u001b[33m001_V\u001b[0m=\u001b[1;36m0\u001b[0m\u001b[1;36m.0\u001b[0m\n",
       "log_dir    test1/m2.1_z0.001_v0/LOGS\n",
       "Name: \u001b[1;36m38\u001b[0m, dtype: object\n"
      ]
     },
     "metadata": {},
     "output_type": "display_data"
    },
    {
     "data": {
      "text/html": [
       "<pre style=\"white-space:pre;overflow-x:auto;line-height:normal;font-family:Menlo,'DejaVu Sans Mono',consolas,'Courier New',monospace\">m                                <span style=\"color: #008080; text-decoration-color: #008080; font-weight: bold\">2.1</span>\n",
       "z                              <span style=\"color: #008080; text-decoration-color: #008080; font-weight: bold\">0.004</span>\n",
       "v                                <span style=\"color: #008080; text-decoration-color: #008080; font-weight: bold\">0.0</span>\n",
       "key              <span style=\"color: #808000; text-decoration-color: #808000\">M</span>=<span style=\"color: #008080; text-decoration-color: #008080; font-weight: bold\">2.</span><span style=\"color: #808000; text-decoration-color: #808000\">1_Z</span>=<span style=\"color: #008080; text-decoration-color: #008080; font-weight: bold\">0.</span><span style=\"color: #808000; text-decoration-color: #808000\">004_V</span>=<span style=\"color: #008080; text-decoration-color: #008080; font-weight: bold\">0.0</span>\n",
       "log_dir    test1/m2.1_z0.004_v0/LOGS\n",
       "Name: <span style=\"color: #008080; text-decoration-color: #008080; font-weight: bold\">34</span>, dtype: object\n",
       "</pre>\n"
      ],
      "text/plain": [
       "m                                \u001b[1;36m2.1\u001b[0m\n",
       "z                              \u001b[1;36m0.004\u001b[0m\n",
       "v                                \u001b[1;36m0.0\u001b[0m\n",
       "key              \u001b[33mM\u001b[0m=\u001b[1;36m2\u001b[0m\u001b[1;36m.\u001b[0m\u001b[33m1_Z\u001b[0m=\u001b[1;36m0\u001b[0m\u001b[1;36m.\u001b[0m\u001b[33m004_V\u001b[0m=\u001b[1;36m0\u001b[0m\u001b[1;36m.0\u001b[0m\n",
       "log_dir    test1/m2.1_z0.004_v0/LOGS\n",
       "Name: \u001b[1;36m34\u001b[0m, dtype: object\n"
      ]
     },
     "metadata": {},
     "output_type": "display_data"
    },
    {
     "data": {
      "text/html": [
       "<pre style=\"white-space:pre;overflow-x:auto;line-height:normal;font-family:Menlo,'DejaVu Sans Mono',consolas,'Courier New',monospace\">m                                <span style=\"color: #008080; text-decoration-color: #008080; font-weight: bold\">2.1</span>\n",
       "z                              <span style=\"color: #008080; text-decoration-color: #008080; font-weight: bold\">0.007</span>\n",
       "v                                <span style=\"color: #008080; text-decoration-color: #008080; font-weight: bold\">0.0</span>\n",
       "key              <span style=\"color: #808000; text-decoration-color: #808000\">M</span>=<span style=\"color: #008080; text-decoration-color: #008080; font-weight: bold\">2.</span><span style=\"color: #808000; text-decoration-color: #808000\">1_Z</span>=<span style=\"color: #008080; text-decoration-color: #008080; font-weight: bold\">0.</span><span style=\"color: #808000; text-decoration-color: #808000\">007_V</span>=<span style=\"color: #008080; text-decoration-color: #008080; font-weight: bold\">0.0</span>\n",
       "log_dir    test1/m2.1_z0.007_v0/LOGS\n",
       "Name: <span style=\"color: #008080; text-decoration-color: #008080; font-weight: bold\">37</span>, dtype: object\n",
       "</pre>\n"
      ],
      "text/plain": [
       "m                                \u001b[1;36m2.1\u001b[0m\n",
       "z                              \u001b[1;36m0.007\u001b[0m\n",
       "v                                \u001b[1;36m0.0\u001b[0m\n",
       "key              \u001b[33mM\u001b[0m=\u001b[1;36m2\u001b[0m\u001b[1;36m.\u001b[0m\u001b[33m1_Z\u001b[0m=\u001b[1;36m0\u001b[0m\u001b[1;36m.\u001b[0m\u001b[33m007_V\u001b[0m=\u001b[1;36m0\u001b[0m\u001b[1;36m.0\u001b[0m\n",
       "log_dir    test1/m2.1_z0.007_v0/LOGS\n",
       "Name: \u001b[1;36m37\u001b[0m, dtype: object\n"
      ]
     },
     "metadata": {},
     "output_type": "display_data"
    },
    {
     "data": {
      "text/html": [
       "<pre style=\"white-space:pre;overflow-x:auto;line-height:normal;font-family:Menlo,'DejaVu Sans Mono',consolas,'Courier New',monospace\">m                               <span style=\"color: #008080; text-decoration-color: #008080; font-weight: bold\">2.1</span>\n",
       "z                              <span style=\"color: #008080; text-decoration-color: #008080; font-weight: bold\">0.01</span>\n",
       "v                               <span style=\"color: #008080; text-decoration-color: #008080; font-weight: bold\">0.0</span>\n",
       "key              <span style=\"color: #808000; text-decoration-color: #808000\">M</span>=<span style=\"color: #008080; text-decoration-color: #008080; font-weight: bold\">2.</span><span style=\"color: #808000; text-decoration-color: #808000\">1_Z</span>=<span style=\"color: #008080; text-decoration-color: #008080; font-weight: bold\">0.</span><span style=\"color: #808000; text-decoration-color: #808000\">01_V</span>=<span style=\"color: #008080; text-decoration-color: #008080; font-weight: bold\">0.0</span>\n",
       "log_dir    test1/m2.1_z0.01_v0/LOGS\n",
       "Name: <span style=\"color: #008080; text-decoration-color: #008080; font-weight: bold\">33</span>, dtype: object\n",
       "</pre>\n"
      ],
      "text/plain": [
       "m                               \u001b[1;36m2.1\u001b[0m\n",
       "z                              \u001b[1;36m0.01\u001b[0m\n",
       "v                               \u001b[1;36m0.0\u001b[0m\n",
       "key              \u001b[33mM\u001b[0m=\u001b[1;36m2\u001b[0m\u001b[1;36m.\u001b[0m\u001b[33m1_Z\u001b[0m=\u001b[1;36m0\u001b[0m\u001b[1;36m.\u001b[0m\u001b[33m01_V\u001b[0m=\u001b[1;36m0\u001b[0m\u001b[1;36m.0\u001b[0m\n",
       "log_dir    test1/m2.1_z0.01_v0/LOGS\n",
       "Name: \u001b[1;36m33\u001b[0m, dtype: object\n"
      ]
     },
     "metadata": {},
     "output_type": "display_data"
    },
    {
     "data": {
      "text/html": [
       "<pre style=\"white-space:pre;overflow-x:auto;line-height:normal;font-family:Menlo,'DejaVu Sans Mono',consolas,'Courier New',monospace\">m                                <span style=\"color: #008080; text-decoration-color: #008080; font-weight: bold\">2.1</span>\n",
       "z                              <span style=\"color: #008080; text-decoration-color: #008080; font-weight: bold\">0.013</span>\n",
       "v                                <span style=\"color: #008080; text-decoration-color: #008080; font-weight: bold\">0.0</span>\n",
       "key              <span style=\"color: #808000; text-decoration-color: #808000\">M</span>=<span style=\"color: #008080; text-decoration-color: #008080; font-weight: bold\">2.</span><span style=\"color: #808000; text-decoration-color: #808000\">1_Z</span>=<span style=\"color: #008080; text-decoration-color: #008080; font-weight: bold\">0.</span><span style=\"color: #808000; text-decoration-color: #808000\">013_V</span>=<span style=\"color: #008080; text-decoration-color: #008080; font-weight: bold\">0.0</span>\n",
       "log_dir    test1/m2.1_z0.013_v0/LOGS\n",
       "Name: <span style=\"color: #008080; text-decoration-color: #008080; font-weight: bold\">32</span>, dtype: object\n",
       "</pre>\n"
      ],
      "text/plain": [
       "m                                \u001b[1;36m2.1\u001b[0m\n",
       "z                              \u001b[1;36m0.013\u001b[0m\n",
       "v                                \u001b[1;36m0.0\u001b[0m\n",
       "key              \u001b[33mM\u001b[0m=\u001b[1;36m2\u001b[0m\u001b[1;36m.\u001b[0m\u001b[33m1_Z\u001b[0m=\u001b[1;36m0\u001b[0m\u001b[1;36m.\u001b[0m\u001b[33m013_V\u001b[0m=\u001b[1;36m0\u001b[0m\u001b[1;36m.0\u001b[0m\n",
       "log_dir    test1/m2.1_z0.013_v0/LOGS\n",
       "Name: \u001b[1;36m32\u001b[0m, dtype: object\n"
      ]
     },
     "metadata": {},
     "output_type": "display_data"
    },
    {
     "data": {
      "text/html": [
       "<pre style=\"white-space:pre;overflow-x:auto;line-height:normal;font-family:Menlo,'DejaVu Sans Mono',consolas,'Courier New',monospace\">m                                <span style=\"color: #008080; text-decoration-color: #008080; font-weight: bold\">2.1</span>\n",
       "z                              <span style=\"color: #008080; text-decoration-color: #008080; font-weight: bold\">0.015</span>\n",
       "v                                <span style=\"color: #008080; text-decoration-color: #008080; font-weight: bold\">0.0</span>\n",
       "key              <span style=\"color: #808000; text-decoration-color: #808000\">M</span>=<span style=\"color: #008080; text-decoration-color: #008080; font-weight: bold\">2.</span><span style=\"color: #808000; text-decoration-color: #808000\">1_Z</span>=<span style=\"color: #008080; text-decoration-color: #008080; font-weight: bold\">0.</span><span style=\"color: #808000; text-decoration-color: #808000\">015_V</span>=<span style=\"color: #008080; text-decoration-color: #008080; font-weight: bold\">0.0</span>\n",
       "log_dir    test1/m2.1_z0.015_v0/LOGS\n",
       "Name: <span style=\"color: #008080; text-decoration-color: #008080; font-weight: bold\">39</span>, dtype: object\n",
       "</pre>\n"
      ],
      "text/plain": [
       "m                                \u001b[1;36m2.1\u001b[0m\n",
       "z                              \u001b[1;36m0.015\u001b[0m\n",
       "v                                \u001b[1;36m0.0\u001b[0m\n",
       "key              \u001b[33mM\u001b[0m=\u001b[1;36m2\u001b[0m\u001b[1;36m.\u001b[0m\u001b[33m1_Z\u001b[0m=\u001b[1;36m0\u001b[0m\u001b[1;36m.\u001b[0m\u001b[33m015_V\u001b[0m=\u001b[1;36m0\u001b[0m\u001b[1;36m.0\u001b[0m\n",
       "log_dir    test1/m2.1_z0.015_v0/LOGS\n",
       "Name: \u001b[1;36m39\u001b[0m, dtype: object\n"
      ]
     },
     "metadata": {},
     "output_type": "display_data"
    },
    {
     "data": {
      "text/html": [
       "<pre style=\"white-space:pre;overflow-x:auto;line-height:normal;font-family:Menlo,'DejaVu Sans Mono',consolas,'Courier New',monospace\">m                                <span style=\"color: #008080; text-decoration-color: #008080; font-weight: bold\">2.1</span>\n",
       "z                              <span style=\"color: #008080; text-decoration-color: #008080; font-weight: bold\">0.018</span>\n",
       "v                                <span style=\"color: #008080; text-decoration-color: #008080; font-weight: bold\">0.0</span>\n",
       "key              <span style=\"color: #808000; text-decoration-color: #808000\">M</span>=<span style=\"color: #008080; text-decoration-color: #008080; font-weight: bold\">2.</span><span style=\"color: #808000; text-decoration-color: #808000\">1_Z</span>=<span style=\"color: #008080; text-decoration-color: #008080; font-weight: bold\">0.</span><span style=\"color: #808000; text-decoration-color: #808000\">018_V</span>=<span style=\"color: #008080; text-decoration-color: #008080; font-weight: bold\">0.0</span>\n",
       "log_dir    test1/m2.1_z0.018_v0/LOGS\n",
       "Name: <span style=\"color: #008080; text-decoration-color: #008080; font-weight: bold\">36</span>, dtype: object\n",
       "</pre>\n"
      ],
      "text/plain": [
       "m                                \u001b[1;36m2.1\u001b[0m\n",
       "z                              \u001b[1;36m0.018\u001b[0m\n",
       "v                                \u001b[1;36m0.0\u001b[0m\n",
       "key              \u001b[33mM\u001b[0m=\u001b[1;36m2\u001b[0m\u001b[1;36m.\u001b[0m\u001b[33m1_Z\u001b[0m=\u001b[1;36m0\u001b[0m\u001b[1;36m.\u001b[0m\u001b[33m018_V\u001b[0m=\u001b[1;36m0\u001b[0m\u001b[1;36m.0\u001b[0m\n",
       "log_dir    test1/m2.1_z0.018_v0/LOGS\n",
       "Name: \u001b[1;36m36\u001b[0m, dtype: object\n"
      ]
     },
     "metadata": {},
     "output_type": "display_data"
    },
    {
     "data": {
      "text/html": [
       "<pre style=\"white-space:pre;overflow-x:auto;line-height:normal;font-family:Menlo,'DejaVu Sans Mono',consolas,'Courier New',monospace\">m                                <span style=\"color: #008080; text-decoration-color: #008080; font-weight: bold\">2.1</span>\n",
       "z                              <span style=\"color: #008080; text-decoration-color: #008080; font-weight: bold\">0.021</span>\n",
       "v                                <span style=\"color: #008080; text-decoration-color: #008080; font-weight: bold\">0.0</span>\n",
       "key              <span style=\"color: #808000; text-decoration-color: #808000\">M</span>=<span style=\"color: #008080; text-decoration-color: #008080; font-weight: bold\">2.</span><span style=\"color: #808000; text-decoration-color: #808000\">1_Z</span>=<span style=\"color: #008080; text-decoration-color: #008080; font-weight: bold\">0.</span><span style=\"color: #808000; text-decoration-color: #808000\">021_V</span>=<span style=\"color: #008080; text-decoration-color: #008080; font-weight: bold\">0.0</span>\n",
       "log_dir    test1/m2.1_z0.021_v0/LOGS\n",
       "Name: <span style=\"color: #008080; text-decoration-color: #008080; font-weight: bold\">35</span>, dtype: object\n",
       "</pre>\n"
      ],
      "text/plain": [
       "m                                \u001b[1;36m2.1\u001b[0m\n",
       "z                              \u001b[1;36m0.021\u001b[0m\n",
       "v                                \u001b[1;36m0.0\u001b[0m\n",
       "key              \u001b[33mM\u001b[0m=\u001b[1;36m2\u001b[0m\u001b[1;36m.\u001b[0m\u001b[33m1_Z\u001b[0m=\u001b[1;36m0\u001b[0m\u001b[1;36m.\u001b[0m\u001b[33m021_V\u001b[0m=\u001b[1;36m0\u001b[0m\u001b[1;36m.0\u001b[0m\n",
       "log_dir    test1/m2.1_z0.021_v0/LOGS\n",
       "Name: \u001b[1;36m35\u001b[0m, dtype: object\n"
      ]
     },
     "metadata": {},
     "output_type": "display_data"
    }
   ],
   "source": [
    "test_inputs = inputs.query(\"m==2.1\")\n",
    "test_inputs = test_inputs.sort_values(by='z')\n",
    "data_dict = get_data_dict(test_inputs)"
   ]
  },
  {
   "cell_type": "code",
   "execution_count": 10,
   "metadata": {},
   "outputs": [
    {
     "data": {
      "image/png": "[encoded data removed]",
      "text/plain": [
       "<Figure size 1000x600 with 2 Axes>"
      ]
     },
     "metadata": {},
     "output_type": "display_data"
    }
   ],
   "source": [
    "fig = plt.figure(figsize=(10,6))\n",
    "palette = sns.color_palette(\"viridis\", len(test_inputs))\n",
    "ax1 = plt.subplot(1,1,1)\n",
    "for i, key in enumerate(data_dict.keys()):\n",
    "    plt.plot(data_dict[key][\"age\"], 10**data_dict[key][\"log_Lnuc\"]/10**data_dict[key][\"log_L\"], label=key, color=palette[i])\n",
    "plt.xlim(0, 40)\n",
    "plt.ylim(0,2)\n",
    "\n",
    "\n",
    "Z = [[0,0],[0,0]]\n",
    "levels = test_inputs[\"z\"].values\n",
    "contour = plt.contourf(Z, levels, cmap=mpl.colors.ListedColormap(palette))\n",
    "cb = plt.colorbar(contour, ticks=levels, boundaries=levels, label='Metallicity')\n",
    "plt.ylim(0, 1.2)\n",
    "plt.show()"
   ]
  },
  {
   "cell_type": "code",
   "execution_count": null,
   "metadata": {},
   "outputs": [],
   "source": []
  },
  {
   "cell_type": "code",
   "execution_count": 13,
   "metadata": {},
   "outputs": [
    {
     "data": {
      "text/plain": [
       "Text(0, 0.5, '$\\\\Delta\\\\nu$ (d$^{-1}$)')"
      ]
     },
     "execution_count": 13,
     "metadata": {},
     "output_type": "execute_result"
    },
    {
     "data": {
      "image/png": "[encoded data removed]",
      "text/plain": [
       "<Figure size 640x480 with 1 Axes>"
      ]
     },
     "metadata": {},
     "output_type": "display_data"
    },
    {
     "ename": "",
     "evalue": "",
     "output_type": "error",
     "traceback": [
      "\u001b[1;31mThe Kernel crashed while executing code in the the current cell or a previous cell. Please review the code in the cell(s) to identify a possible cause of the failure. Click <a href='https://aka.ms/vscodeJupyterKernelCrash'>here</a> for more info. View Jupyter <a href='command:jupyter.viewOutput'>log</a> for further details."
     ]
    }
   ],
   "source": [
    "key = \"M=2.1_Z=0.001_V=0.0\"\n",
    "age = data_dict[key][\"age\"]\n",
    "Dnu = data_dict[key][\"Dnu\"]\n",
    "\n",
    "plt.scatter(age, Dnu)\n",
    "plt.xlim(0, 40)\n",
    "# plt.xlim(40, 500)\n",
    "# plt.ylim(6, 8)\n",
    "plt.xlabel(\"Age (Myr)\")\n",
    "plt.ylabel(r\"$\\Delta\\nu$ (d$^{-1}$)\")"
   ]
  },
  {
   "cell_type": "code",
   "execution_count": null,
   "metadata": {},
   "outputs": [],
   "source": []
  }
 ],
 "metadata": {
  "kernelspec": {
   "display_name": "Python 3 (ipykernel)",
   "language": "python",
   "name": "python3"
  },
  "language_info": {
   "codemirror_mode": {
    "name": "ipython",
    "version": 3
   },
   "file_extension": ".py",
   "mimetype": "text/x-python",
   "name": "python",
   "nbconvert_exporter": "python",
   "pygments_lexer": "ipython3",
   "version": "3.10.8"
  },
  "orig_nbformat": 4
 },
 "nbformat": 4,
 "nbformat_minor": 2
}

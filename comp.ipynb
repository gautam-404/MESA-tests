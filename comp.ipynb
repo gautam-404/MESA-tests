{
 "cells": [
  {
   "cell_type": "code",
   "execution_count": 1,
   "metadata": {},
   "outputs": [],
   "source": [
    "import numpy as np\n",
    "import pandas as pd\n",
    "import matplotlib.pyplot as plt\n",
    "import seaborn as sns\n",
    "import glob\n",
    "import os\n",
    "import itertools\n",
    "from scipy.interpolate import interp1d\n",
    "from helper import *"
   ]
  },
  {
   "cell_type": "code",
   "execution_count": 2,
   "metadata": {},
   "outputs": [],
   "source": [
    "%matplotlib inline\n",
    "%config IPython.matplotlib.backend = \"retina\"\n",
    "from matplotlib import rcParams\n",
    "rcParams[\"figure.dpi\"] = 300\n",
    "rcParams[\"savefig.dpi\"] = 300\n",
    "rcParams[\"xtick.direction\"] = \"in\"\n",
    "rcParams[\"ytick.direction\"] = \"in\"\n",
    "rcParams[\"xtick.top\"] = True\n",
    "rcParams[\"ytick.right\"] = True\n",
    "rcParams[\"font.size\"] = 14"
   ]
  },
  {
   "cell_type": "code",
   "execution_count": null,
   "metadata": {},
   "outputs": [],
   "source": []
  },
  {
   "cell_type": "code",
   "execution_count": 3,
   "metadata": {},
   "outputs": [],
   "source": []
  },
  {
   "cell_type": "code",
   "execution_count": 37,
   "metadata": {},
   "outputs": [
    {
     "data": {
      "text/html": [
       "<pre style=\"white-space:pre;overflow-x:auto;line-height:normal;font-family:Menlo,'DejaVu Sans Mono',consolas,'Courier New',monospace\"><span style=\"font-weight: bold\">[</span>\n",
       "    <span style=\"color: #008080; text-decoration-color: #008080; font-weight: bold\">1031.0434262752533</span>,\n",
       "    <span style=\"color: #008080; text-decoration-color: #008080; font-weight: bold\">3371.7506079673767</span>,\n",
       "    <span style=\"color: #008080; text-decoration-color: #008080; font-weight: bold\">817.9263074398041</span>,\n",
       "    <span style=\"color: #008080; text-decoration-color: #008080; font-weight: bold\">693.2565948963165</span>,\n",
       "    <span style=\"color: #008080; text-decoration-color: #008080; font-weight: bold\">461.2132480144501</span>,\n",
       "    <span style=\"color: #008080; text-decoration-color: #008080; font-weight: bold\">1670.9988837242126</span>,\n",
       "    <span style=\"color: #008080; text-decoration-color: #008080; font-weight: bold\">509.527375459671</span>,\n",
       "    <span style=\"color: #008080; text-decoration-color: #008080; font-weight: bold\">652.3848984241486</span>\n",
       "<span style=\"font-weight: bold\">]</span>\n",
       "</pre>\n"
      ],
      "text/plain": [
       "\u001b[1m[\u001b[0m\n",
       "    \u001b[1;36m1031.0434262752533\u001b[0m,\n",
       "    \u001b[1;36m3371.7506079673767\u001b[0m,\n",
       "    \u001b[1;36m817.9263074398041\u001b[0m,\n",
       "    \u001b[1;36m693.2565948963165\u001b[0m,\n",
       "    \u001b[1;36m461.2132480144501\u001b[0m,\n",
       "    \u001b[1;36m1670.9988837242126\u001b[0m,\n",
       "    \u001b[1;36m509.527375459671\u001b[0m,\n",
       "    \u001b[1;36m652.3848984241486\u001b[0m\n",
       "\u001b[1m]\u001b[0m\n"
      ]
     },
     "metadata": {},
     "output_type": "display_data"
    },
    {
     "data": {
      "text/html": [
       "<pre style=\"white-space:pre;overflow-x:auto;line-height:normal;font-family:Menlo,'DejaVu Sans Mono',consolas,'Courier New',monospace\"><span style=\"font-weight: bold\">[</span><span style=\"color: #008080; text-decoration-color: #008080; font-weight: bold\">0.5</span>, <span style=\"color: #008080; text-decoration-color: #008080; font-weight: bold\">0.1</span>, <span style=\"color: #008080; text-decoration-color: #008080; font-weight: bold\">0.7</span>, <span style=\"color: #008080; text-decoration-color: #008080; font-weight: bold\">0.9</span>, <span style=\"color: #008080; text-decoration-color: #008080; font-weight: bold\">1.5</span>, <span style=\"color: #008080; text-decoration-color: #008080; font-weight: bold\">0.3</span>, <span style=\"color: #008080; text-decoration-color: #008080; font-weight: bold\">1.3</span>, <span style=\"color: #008080; text-decoration-color: #008080; font-weight: bold\">1.1</span><span style=\"font-weight: bold\">]</span>\n",
       "</pre>\n"
      ],
      "text/plain": [
       "\u001b[1m[\u001b[0m\u001b[1;36m0.5\u001b[0m, \u001b[1;36m0.1\u001b[0m, \u001b[1;36m0.7\u001b[0m, \u001b[1;36m0.9\u001b[0m, \u001b[1;36m1.5\u001b[0m, \u001b[1;36m0.3\u001b[0m, \u001b[1;36m1.3\u001b[0m, \u001b[1;36m1.1\u001b[0m\u001b[1m]\u001b[0m\n"
      ]
     },
     "metadata": {},
     "output_type": "display_data"
    },
    {
     "data": {
      "text/html": [
       "<pre style=\"white-space:pre;overflow-x:auto;line-height:normal;font-family:Menlo,'DejaVu Sans Mono',consolas,'Courier New',monospace\"><span style=\"font-weight: bold\">[</span><span style=\"color: #008080; text-decoration-color: #008080; font-weight: bold\">3</span>, <span style=\"color: #008080; text-decoration-color: #008080; font-weight: bold\">1</span>, <span style=\"color: #008080; text-decoration-color: #008080; font-weight: bold\">4</span>, <span style=\"color: #008080; text-decoration-color: #008080; font-weight: bold\">5</span>, <span style=\"color: #008080; text-decoration-color: #008080; font-weight: bold\">8</span>, <span style=\"color: #008080; text-decoration-color: #008080; font-weight: bold\">2</span>, <span style=\"color: #008080; text-decoration-color: #008080; font-weight: bold\">7</span>, <span style=\"color: #008080; text-decoration-color: #008080; font-weight: bold\">6</span><span style=\"font-weight: bold\">]</span>\n",
       "</pre>\n"
      ],
      "text/plain": [
       "\u001b[1m[\u001b[0m\u001b[1;36m3\u001b[0m, \u001b[1;36m1\u001b[0m, \u001b[1;36m4\u001b[0m, \u001b[1;36m5\u001b[0m, \u001b[1;36m8\u001b[0m, \u001b[1;36m2\u001b[0m, \u001b[1;36m7\u001b[0m, \u001b[1;36m6\u001b[0m\u001b[1m]\u001b[0m\n"
      ]
     },
     "metadata": {},
     "output_type": "display_data"
    }
   ],
   "source": [
    "var_name = \"mesh_delta_coeff\"\n",
    "var_samples = np.arange(0.1, 1.7, 0.2)\n",
    "\n",
    "M_sample = [1.7]\n",
    "Z_sample = [0.015]\n",
    "V_sample = [0]\n",
    "\n",
    "log_dirs = glob.glob(\"test/m1.7_z0.015_v0_var*/LOGS\")\n",
    "run_times = []\n",
    "var_ind = []\n",
    "for i, logs_dir in enumerate(log_dirs):\n",
    "    var_ind.append(int(logs_dir.split(\"/LOGS\")[0].split(\"var\")[-1]))\n",
    "    logfn = \"\".join(logs_dir.split(\"LOGS\")) + \"/run.log\"\n",
    "    with open(logfn, \"r\") as f:\n",
    "        lines = f.readlines()\n",
    "        for line in lines:\n",
    "            if \"Total\" in line:\n",
    "                run_time = float(line.split(\" \")[-2])\n",
    "                run_times.append(run_time)\n",
    "var_samples = [round(var_samples[i-1], 2) for i in var_ind]\n",
    "\n",
    "combinations = itertools.product(M_sample, Z_sample, V_sample, var_samples)\n",
    "\n",
    "print(run_times)\n",
    "print(var_samples)\n",
    "print(var_ind)"
   ]
  },
  {
   "cell_type": "code",
   "execution_count": 39,
   "metadata": {},
   "outputs": [],
   "source": [
    "def get_freqs(ind):\n",
    "    var = var_samples[ind]\n",
    "    hist, freqs, profs, n_profs, prof_index = get_data(log_dirs[ind])\n",
    "    models = [i[0] for i in prof_index if i[2] in n_profs]\n",
    "    indexes = hist.index[hist.model_number.isin(models)]\n",
    "    ages = hist.star_age[indexes]/1e6\n",
    "    return freqs, ages\n",
    "\n",
    "def interp(x, y, age):\n",
    "    f = interp1d(x, y, fill_value=\"extrapolate\")\n",
    "    return f(age)\n",
    "\n",
    "mode_labels = [\"n1ell0m0\",\"n2ell0m0\",\"n3ell0m0\",\"n4ell0m0\",\"n5ell0m0\",\"n6ell0m0\",\"n7ell0m0\",\"n8ell0m0\",\"n9ell0m0\",\"n10ell0m0\",\n",
    "         \"n1ell1mm1\",\"n2ell1mm1\",\"n3ell1mm1\",\"n4ell1mm1\",\"n5ell1mm1\",\"n6ell1mm1\",\"n7ell1mm1\",\"n8ell1mm1\",\"n9ell1mm1\",\"n10ell1mm1\",\n",
    "         \"n1ell1m0\",\"n2ell1m0\",\"n3ell1m0\",\"n4ell1m0\",\"n5ell1m0\",\"n6ell1m0\",\"n7ell1m0\",\"n8ell1m0\",\"n9ell1m0\",\"n10ell1m0\",\n",
    "         \"n1ell1mp1\",\"n2ell1mp1\",\"n3ell1mp1\",\"n4ell1mp1\",\"n5ell1mp1\",\"n6ell1mp1\",\"n7ell1mp1\",\"n8ell1mp1\",\"n9ell1mp1\",\"n10ell1mp1\"]\n",
    "mode_strings = [\"100\",\"200\",\"300\",\"400\",\"500\",\"600\",\"700\",\"800\",\"900\",\"1000\",\n",
    "         \"11-1\",\"21-1\",\"31-1\",\"41-1\",\"51-1\",\"61-1\",\"71-1\",\"81-1\",\"91-1\",\"101-1\",\n",
    "         \"110\",\"210\",\"310\",\"410\",\"510\",\"610\",\"710\",\"810\",\"910\",\"1010\",\n",
    "         \"11-1\",\"21-1\",\"31-1\",\"41-1\",\"51-1\",\"61-1\",\"71-1\",\"81-1\",\"91-1\",\"101-1\"]\n",
    "\n",
    "def get_freqs_df_interp(ind):\n",
    "    freqs, ages = get_freqs(ind)\n",
    "    dff = pd.DataFrame()\n",
    "    dff[\"Dnu\"] = np.repeat(np.nan, len(freqs))\n",
    "    dff[\"eps\"] = np.repeat(np.nan, len(freqs))\n",
    "    for s in mode_labels:\n",
    "        dff[s] = np.repeat(np.nan, len(freqs))\n",
    "\n",
    "    freqs_df = []\n",
    "    for i, row in dff.iterrows():\n",
    "        df = row\n",
    "        ts = freqs[i]\n",
    "        ts = model_nlm(ts)\n",
    "        df[\"age\"] = ages.iloc[i]\n",
    "        df[\"Dnu\"] = model_Dnu(ts)\n",
    "        df[\"eps\"] = model_epsilon(ts)\n",
    "        for j,s in enumerate(mode_strings):\n",
    "            try:\n",
    "                df[mode_labels[j]] = np.round(ts.query(f\"nlm=='{s}'\")[\"Re(freq)\"].values[0],5)\n",
    "            except:\n",
    "                df[mode_labels[j]] = np.nan\n",
    "        freqs_df.append(df)\n",
    "\n",
    "    freqs_df = pd.DataFrame(freqs_df)\n",
    "\n",
    "    l = 1\n",
    "    for n in range(1, 11):\n",
    "        freqs_df[f\"n{n}ell{l}dfreq\"] = freqs_df[f\"n{n}ell{l}m0\"] - freqs_df[f\"n{n}ell{l}mm1\"]\n",
    "        freqs_df.drop(columns=[f\"n{n}ell{l}mp1\", f\"n{n}ell{l}mm1\"], inplace=True)\n",
    "    columns = ['age', 'Dnu', 'eps', 'n1ell0m0', 'n2ell0m0', 'n3ell0m0', 'n4ell0m0',\n",
    "       'n5ell0m0', 'n6ell0m0', 'n7ell0m0', 'n8ell0m0', 'n9ell0m0', 'n10ell0m0',\n",
    "       'n1ell1m0', 'n2ell1m0', 'n3ell1m0', 'n4ell1m0', 'n5ell1m0', 'n6ell1m0',\n",
    "       'n7ell1m0', 'n8ell1m0', 'n9ell1m0', 'n10ell1m0', 'n1ell1dfreq',\n",
    "       'n2ell1dfreq', 'n3ell1dfreq', 'n4ell1dfreq', 'n5ell1dfreq',\n",
    "       'n6ell1dfreq', 'n7ell1dfreq', 'n8ell1dfreq', 'n9ell1dfreq',\n",
    "       'n10ell1dfreq']\n",
    "    freqs_df = freqs_df[columns]\n",
    "    \n",
    "    # ages = np.linspace(15, freqs_df.iloc[-1][\"age\"], 100)\n",
    "    ages = np.arange(0, freqs_df.iloc[-1][\"age\"], 0.1)\n",
    "    new_df = pd.DataFrame()\n",
    "    new_df[\"age\"] = ages\n",
    "    for column in columns[1:]:\n",
    "        new_df[column] = interp(freqs_df[\"age\"], freqs_df[column], ages)\n",
    "    return new_df.fillna(0)"
   ]
  },
  {
   "cell_type": "code",
   "execution_count": 44,
   "metadata": {},
   "outputs": [
    {
     "data": {
      "text/html": [
       "<pre style=\"white-space:pre;overflow-x:auto;line-height:normal;font-family:Menlo,'DejaVu Sans Mono',consolas,'Courier New',monospace\"><span style=\"color: #008080; text-decoration-color: #008080; font-weight: bold\">1.7</span> <span style=\"color: #008080; text-decoration-color: #008080; font-weight: bold\">0.015</span> <span style=\"color: #008080; text-decoration-color: #008080; font-weight: bold\">0</span> <span style=\"color: #008080; text-decoration-color: #008080; font-weight: bold\">0.5</span>\n",
       "</pre>\n"
      ],
      "text/plain": [
       "\u001b[1;36m1.7\u001b[0m \u001b[1;36m0.015\u001b[0m \u001b[1;36m0\u001b[0m \u001b[1;36m0.5\u001b[0m\n"
      ]
     },
     "metadata": {},
     "output_type": "display_data"
    },
    {
     "ename": "",
     "evalue": "",
     "output_type": "error",
     "traceback": [
      "\u001b[1;31mCannot execute code, session has been disposed. Please try restarting the Kernel."
     ]
    },
    {
     "ename": "",
     "evalue": "",
     "output_type": "error",
     "traceback": [
      "\u001b[1;31mThe Kernel crashed while executing code in the the current cell or a previous cell. Please review the code in the cell(s) to identify a possible cause of the failure. Click <a href='https://aka.ms/vscodeJupyterKernelCrash'>here</a> for more info. View Jupyter <a href='command:jupyter.viewOutput'>log</a> for further details."
     ]
    },
    {
     "ename": "",
     "evalue": "",
     "output_type": "error",
     "traceback": [
      "\u001b[1;31mThe Kernel crashed while executing code in the the current cell or a previous cell. Please review the code in the cell(s) to identify a possible cause of the failure. Click <a href='https://aka.ms/vscodeJupyterKernelCrash'>here</a> for more info. View Jupyter <a href='command:jupyter.viewOutput'>log</a> for further details."
     ]
    }
   ],
   "source": [
    "combinations = itertools.product(M_sample, Z_sample, V_sample, var_samples)\n",
    "data_dict = {}\n",
    "\n",
    "k = 0\n",
    "for m, z, v, var in combinations:\n",
    "    print(m, z, v, var)\n",
    "    key = f\"M={m}_Z={z}_V={v}_var={var}\"\n",
    "    hist, freqs, profs, n_profs, prof_index = get_data(log_dirs[k])\n",
    "    data_dict[key] = pd.DataFrame()\n",
    "    data_dict[key]['age'] = hist['star_age']/1e6\n",
    "    # data_dict[key]['log_Lcno'] = hist['cno'].values\n",
    "    # data_dict[key]['log_Lpp'] = hist['pp'].values\n",
    "    # data_dict[key]['log_Lnuc'] = hist['log_Lnuc'].values\n",
    "    data_dict[key]['log_cntr_Rho'] = hist['log_cntr_Rho'].values\n",
    "    data_dict[key]['log_cntr_T'] = hist['log_cntr_T'].values\n",
    "    data_dict[key]['log_Teff'] = hist['log_Teff'].values\n",
    "    # data_dict[key]['log_L'] = hist['log_L'].values\n",
    "    # data_dict[key]['log_LH'] = hist['log_LH'].values\n",
    "    # data_dict[key]['log_LHe'] = hist['log_LHe'].values\n",
    "    # data_dict[key]['log_LZ'] = hist['log_LZ'].values\n",
    "    # data_dict[key]['center_h1'] = hist['center_h1'].values\n",
    "    # data_dict[key]['center_he4'] = hist['center_he4'].values\n",
    "    # data_dict[key]['average_h1'] = hist['average_h1'].values\n",
    "    # data_dict[key]['average_he4'] = hist['average_he4'].values\n",
    "    # data_dict[key]['total_mass_h1'] = hist['total_mass_h1'].values\n",
    "    # data_dict[key]['total_mass_he4'] = hist['total_mass_he4'].values\n",
    "    data_dict[key] = pd.merge(data_dict[key], get_freqs_df_interp(k), on=\"age\")\n",
    "    print(k)\n",
    "    k += 1"
   ]
  },
  {
   "cell_type": "code",
   "execution_count": 43,
   "metadata": {},
   "outputs": [
    {
     "data": {
      "text/plain": [
       "dict_keys(['M=1.7_Z=0.015_V=0_var=0.5'])"
      ]
     },
     "execution_count": 43,
     "metadata": {},
     "output_type": "execute_result"
    }
   ],
   "source": [
    "data_dict.keys()"
   ]
  },
  {
   "cell_type": "code",
   "execution_count": null,
   "metadata": {},
   "outputs": [],
   "source": [
    "key_ref = \"M=1.7_Z=0.015_V=0.0_var=0.1\"\n",
    "mean_df = data_dict[key_ref]\n",
    "for key in data_dict.keys():\n",
    "    f\n"
   ]
  },
  {
   "cell_type": "code",
   "execution_count": null,
   "metadata": {},
   "outputs": [],
   "source": [
    "fig = plt.figure(figsize=(15, 15))\n",
    "\n",
    "ax1 = fig.add_subplot(2, 1, 1)\n"
   ]
  },
  {
   "cell_type": "code",
   "execution_count": null,
   "metadata": {},
   "outputs": [],
   "source": []
  }
 ],
 "metadata": {
  "kernelspec": {
   "display_name": "Python 3",
   "language": "python",
   "name": "python3"
  },
  "language_info": {
   "codemirror_mode": {
    "name": "ipython",
    "version": 3
   },
   "file_extension": ".py",
   "mimetype": "text/x-python",
   "name": "python",
   "nbconvert_exporter": "python",
   "pygments_lexer": "ipython3",
   "version": "3.10.8"
  },
  "orig_nbformat": 4
 },
 "nbformat": 4,
 "nbformat_minor": 2
}

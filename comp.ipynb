{
 "cells": [
  {
   "cell_type": "code",
   "execution_count": 3,
   "metadata": {},
   "outputs": [],
   "source": [
    "import numpy as np\n",
    "import pandas as pd\n",
    "import matplotlib.pyplot as plt\n",
    "import seaborn as sns\n",
    "import glob\n",
    "import os\n",
    "import itertools\n",
    "from scipy.interpolate import interp1d\n",
    "from helper import *"
   ]
  },
  {
   "cell_type": "code",
   "execution_count": 4,
   "metadata": {},
   "outputs": [],
   "source": [
    "%matplotlib inline\n",
    "%config IPython.matplotlib.backend = \"retina\"\n",
    "from matplotlib import rcParams\n",
    "rcParams[\"figure.dpi\"] = 300\n",
    "rcParams[\"savefig.dpi\"] = 300\n",
    "rcParams[\"xtick.direction\"] = \"in\"\n",
    "rcParams[\"ytick.direction\"] = \"in\"\n",
    "rcParams[\"xtick.top\"] = True\n",
    "rcParams[\"ytick.right\"] = True\n",
    "rcParams[\"font.size\"] = 14"
   ]
  },
  {
   "cell_type": "code",
   "execution_count": 5,
   "metadata": {},
   "outputs": [
    {
     "data": {
      "text/html": [
       "<pre style=\"white-space:pre;overflow-x:auto;line-height:normal;font-family:Menlo,'DejaVu Sans Mono',consolas,'Courier New',monospace\"><span style=\"font-weight: bold\">[</span>\n",
       "    <span style=\"color: #008080; text-decoration-color: #008080; font-weight: bold\">3371.7506079673767</span>,\n",
       "    <span style=\"color: #008080; text-decoration-color: #008080; font-weight: bold\">1670.9988837242126</span>,\n",
       "    <span style=\"color: #008080; text-decoration-color: #008080; font-weight: bold\">1031.0434262752533</span>,\n",
       "    <span style=\"color: #008080; text-decoration-color: #008080; font-weight: bold\">817.9263074398041</span>,\n",
       "    <span style=\"color: #008080; text-decoration-color: #008080; font-weight: bold\">693.2565948963165</span>,\n",
       "    <span style=\"color: #008080; text-decoration-color: #008080; font-weight: bold\">652.3848984241486</span>,\n",
       "    <span style=\"color: #008080; text-decoration-color: #008080; font-weight: bold\">509.527375459671</span>,\n",
       "    <span style=\"color: #008080; text-decoration-color: #008080; font-weight: bold\">461.2132480144501</span>\n",
       "<span style=\"font-weight: bold\">]</span>\n",
       "</pre>\n"
      ],
      "text/plain": [
       "\u001b[1m[\u001b[0m\n",
       "    \u001b[1;36m3371.7506079673767\u001b[0m,\n",
       "    \u001b[1;36m1670.9988837242126\u001b[0m,\n",
       "    \u001b[1;36m1031.0434262752533\u001b[0m,\n",
       "    \u001b[1;36m817.9263074398041\u001b[0m,\n",
       "    \u001b[1;36m693.2565948963165\u001b[0m,\n",
       "    \u001b[1;36m652.3848984241486\u001b[0m,\n",
       "    \u001b[1;36m509.527375459671\u001b[0m,\n",
       "    \u001b[1;36m461.2132480144501\u001b[0m\n",
       "\u001b[1m]\u001b[0m\n"
      ]
     },
     "metadata": {},
     "output_type": "display_data"
    },
    {
     "data": {
      "text/html": [
       "<pre style=\"white-space:pre;overflow-x:auto;line-height:normal;font-family:Menlo,'DejaVu Sans Mono',consolas,'Courier New',monospace\"><span style=\"font-weight: bold\">[</span><span style=\"color: #008080; text-decoration-color: #008080; font-weight: bold\">0.1</span>, <span style=\"color: #008080; text-decoration-color: #008080; font-weight: bold\">0.3</span>, <span style=\"color: #008080; text-decoration-color: #008080; font-weight: bold\">0.5</span>, <span style=\"color: #008080; text-decoration-color: #008080; font-weight: bold\">0.7</span>, <span style=\"color: #008080; text-decoration-color: #008080; font-weight: bold\">0.9</span>, <span style=\"color: #008080; text-decoration-color: #008080; font-weight: bold\">1.1</span>, <span style=\"color: #008080; text-decoration-color: #008080; font-weight: bold\">1.3</span>, <span style=\"color: #008080; text-decoration-color: #008080; font-weight: bold\">1.5</span><span style=\"font-weight: bold\">]</span>\n",
       "</pre>\n"
      ],
      "text/plain": [
       "\u001b[1m[\u001b[0m\u001b[1;36m0.1\u001b[0m, \u001b[1;36m0.3\u001b[0m, \u001b[1;36m0.5\u001b[0m, \u001b[1;36m0.7\u001b[0m, \u001b[1;36m0.9\u001b[0m, \u001b[1;36m1.1\u001b[0m, \u001b[1;36m1.3\u001b[0m, \u001b[1;36m1.5\u001b[0m\u001b[1m]\u001b[0m\n"
      ]
     },
     "metadata": {},
     "output_type": "display_data"
    },
    {
     "data": {
      "text/html": [
       "<pre style=\"white-space:pre;overflow-x:auto;line-height:normal;font-family:Menlo,'DejaVu Sans Mono',consolas,'Courier New',monospace\"><span style=\"font-weight: bold\">[</span><span style=\"color: #008080; text-decoration-color: #008080; font-weight: bold\">1</span>, <span style=\"color: #008080; text-decoration-color: #008080; font-weight: bold\">2</span>, <span style=\"color: #008080; text-decoration-color: #008080; font-weight: bold\">3</span>, <span style=\"color: #008080; text-decoration-color: #008080; font-weight: bold\">4</span>, <span style=\"color: #008080; text-decoration-color: #008080; font-weight: bold\">5</span>, <span style=\"color: #008080; text-decoration-color: #008080; font-weight: bold\">6</span>, <span style=\"color: #008080; text-decoration-color: #008080; font-weight: bold\">7</span>, <span style=\"color: #008080; text-decoration-color: #008080; font-weight: bold\">8</span><span style=\"font-weight: bold\">]</span>\n",
       "</pre>\n"
      ],
      "text/plain": [
       "\u001b[1m[\u001b[0m\u001b[1;36m1\u001b[0m, \u001b[1;36m2\u001b[0m, \u001b[1;36m3\u001b[0m, \u001b[1;36m4\u001b[0m, \u001b[1;36m5\u001b[0m, \u001b[1;36m6\u001b[0m, \u001b[1;36m7\u001b[0m, \u001b[1;36m8\u001b[0m\u001b[1m]\u001b[0m\n"
      ]
     },
     "metadata": {},
     "output_type": "display_data"
    }
   ],
   "source": [
    "var_name = \"mesh_delta_coeff\"\n",
    "var_samples = np.arange(0.1, 1.7, 0.2)\n",
    "\n",
    "M_sample = [1.7]\n",
    "Z_sample = [0.015]\n",
    "V_sample = [0]\n",
    "\n",
    "log_dirs = glob.glob(\"test/m1.7_z0.015_v0_var*/LOGS\")\n",
    "run_times = []\n",
    "var_ind = []\n",
    "for i, logs_dir in enumerate(log_dirs):\n",
    "    var_ind.append(int(logs_dir.split(\"/LOGS\")[0].split(\"var\")[-1]))\n",
    "    logfn = \"\".join(logs_dir.split(\"LOGS\")) + \"/run.log\"\n",
    "    with open(logfn, \"r\") as f:\n",
    "        lines = f.readlines()\n",
    "        for line in lines:\n",
    "            if \"Total\" in line:\n",
    "                run_time = float(line.split(\" \")[-2])\n",
    "                run_times.append(run_time)\n",
    "var_samples = [round(var_samples[i-1], 2) for i in var_ind]\n",
    "\n",
    "combinations = itertools.product(M_sample, Z_sample, V_sample, var_samples)\n",
    "\n",
    "print(run_times)\n",
    "print(var_samples)\n",
    "print(var_ind)"
   ]
  },
  {
   "cell_type": "code",
   "execution_count": 43,
   "metadata": {},
   "outputs": [],
   "source": [
    "def get_freqs(ind):\n",
    "    var = var_samples[ind]\n",
    "    hist, freqs, profs, n_profs, prof_index = get_data(log_dirs[ind])\n",
    "    models = [i[0] for i in prof_index if i[2] in n_profs]\n",
    "    indexes = hist.index[hist.model_number.isin(models)]\n",
    "    ages = hist.star_age[indexes]/1e6\n",
    "    return freqs, ages\n",
    "\n",
    "def interp(x, y, age):\n",
    "    f = interp1d(x, y, fill_value=\"extrapolate\")\n",
    "    return f(age)\n",
    "\n",
    "mode_labels = [\"n1ell0m0\",\"n2ell0m0\",\"n3ell0m0\",\"n4ell0m0\",\"n5ell0m0\",\"n6ell0m0\",\"n7ell0m0\",\"n8ell0m0\",\"n9ell0m0\",\"n10ell0m0\",\n",
    "         \"n1ell1mm1\",\"n2ell1mm1\",\"n3ell1mm1\",\"n4ell1mm1\",\"n5ell1mm1\",\"n6ell1mm1\",\"n7ell1mm1\",\"n8ell1mm1\",\"n9ell1mm1\",\"n10ell1mm1\",\n",
    "         \"n1ell1m0\",\"n2ell1m0\",\"n3ell1m0\",\"n4ell1m0\",\"n5ell1m0\",\"n6ell1m0\",\"n7ell1m0\",\"n8ell1m0\",\"n9ell1m0\",\"n10ell1m0\",\n",
    "         \"n1ell1mp1\",\"n2ell1mp1\",\"n3ell1mp1\",\"n4ell1mp1\",\"n5ell1mp1\",\"n6ell1mp1\",\"n7ell1mp1\",\"n8ell1mp1\",\"n9ell1mp1\",\"n10ell1mp1\"]\n",
    "mode_strings = [\"100\",\"200\",\"300\",\"400\",\"500\",\"600\",\"700\",\"800\",\"900\",\"1000\",\n",
    "         \"11-1\",\"21-1\",\"31-1\",\"41-1\",\"51-1\",\"61-1\",\"71-1\",\"81-1\",\"91-1\",\"101-1\",\n",
    "         \"110\",\"210\",\"310\",\"410\",\"510\",\"610\",\"710\",\"810\",\"910\",\"1010\",\n",
    "         \"11-1\",\"21-1\",\"31-1\",\"41-1\",\"51-1\",\"61-1\",\"71-1\",\"81-1\",\"91-1\",\"101-1\"]\n",
    "\n",
    "def get_freqs_df_interp(ind):\n",
    "    freqs, ages = get_freqs(ind)\n",
    "    dff = pd.DataFrame()\n",
    "    dff[\"Dnu\"] = np.repeat(np.nan, len(freqs))\n",
    "    dff[\"eps\"] = np.repeat(np.nan, len(freqs))\n",
    "    for s in mode_labels:\n",
    "        dff[s] = np.repeat(np.nan, len(freqs))\n",
    "\n",
    "    freqs_df = []\n",
    "    for i, row in dff.iterrows():\n",
    "        df = row\n",
    "        ts = freqs[i]\n",
    "        ts = model_nlm(ts)\n",
    "        df[\"age\"] = ages.iloc[i]\n",
    "        df[\"Dnu\"] = model_Dnu(ts)\n",
    "        df[\"eps\"] = model_epsilon(ts)\n",
    "        for j,s in enumerate(mode_strings):\n",
    "            try:\n",
    "                df[mode_labels[j]] = np.round(ts.query(f\"nlm=='{s}'\")[\"Re(freq)\"].values[0],5)\n",
    "            except:\n",
    "                df[mode_labels[j]] = np.nan\n",
    "        freqs_df.append(df)\n",
    "\n",
    "    freqs_df = pd.DataFrame(freqs_df)\n",
    "\n",
    "    l = 1\n",
    "    for n in range(1, 11):\n",
    "        freqs_df[f\"n{n}ell{l}dfreq\"] = freqs_df[f\"n{n}ell{l}m0\"] - freqs_df[f\"n{n}ell{l}mm1\"]\n",
    "        freqs_df.drop(columns=[f\"n{n}ell{l}mp1\", f\"n{n}ell{l}mm1\"], inplace=True)\n",
    "    columns = ['age', 'Dnu', 'eps', 'n1ell0m0', 'n2ell0m0', 'n3ell0m0', 'n4ell0m0',\n",
    "       'n5ell0m0', 'n6ell0m0', 'n7ell0m0', 'n8ell0m0', 'n9ell0m0', 'n10ell0m0',\n",
    "       'n1ell1m0', 'n2ell1m0', 'n3ell1m0', 'n4ell1m0', 'n5ell1m0', 'n6ell1m0',\n",
    "       'n7ell1m0', 'n8ell1m0', 'n9ell1m0', 'n10ell1m0', 'n1ell1dfreq',\n",
    "       'n2ell1dfreq', 'n3ell1dfreq', 'n4ell1dfreq', 'n5ell1dfreq',\n",
    "       'n6ell1dfreq', 'n7ell1dfreq', 'n8ell1dfreq', 'n9ell1dfreq',\n",
    "       'n10ell1dfreq']\n",
    "    freqs_df = freqs_df[columns]\n",
    "    # return freqs_df\n",
    "    \n",
    "    ages = np.arange(0, freqs_df.iloc[-1][\"age\"], 0.1)\n",
    "    new_df = pd.DataFrame()\n",
    "    new_df[\"age\"] = ages\n",
    "    for column in columns[1:]:\n",
    "        new_df[column] = interp(freqs_df[\"age\"], freqs_df[column], ages)\n",
    "    return new_df\n",
    "    "
   ]
  },
  {
   "cell_type": "code",
   "execution_count": 44,
   "metadata": {},
   "outputs": [
    {
     "data": {
      "text/html": [
       "<pre style=\"white-space:pre;overflow-x:auto;line-height:normal;font-family:Menlo,'DejaVu Sans Mono',consolas,'Courier New',monospace\"><span style=\"color: #008080; text-decoration-color: #008080; font-weight: bold\">1.7</span> <span style=\"color: #008080; text-decoration-color: #008080; font-weight: bold\">0.015</span> <span style=\"color: #008080; text-decoration-color: #008080; font-weight: bold\">0</span> <span style=\"color: #008080; text-decoration-color: #008080; font-weight: bold\">0.1</span>\n",
       "</pre>\n"
      ],
      "text/plain": [
       "\u001b[1;36m1.7\u001b[0m \u001b[1;36m0.015\u001b[0m \u001b[1;36m0\u001b[0m \u001b[1;36m0.1\u001b[0m\n"
      ]
     },
     "metadata": {},
     "output_type": "display_data"
    }
   ],
   "source": [
    "combinations = itertools.product(M_sample, Z_sample, V_sample, var_samples)\n",
    "data_dict = {}\n",
    "\n",
    "k = 0\n",
    "for m, z, v, var in combinations:\n",
    "    print(m, z, v, var)\n",
    "    key = f\"M={m}_Z={z}_V={v}_var={var}\"\n",
    "    hist, freqs, profs, n_profs, prof_index = get_data(log_dirs[k])\n",
    "    data_dict[key] = pd.DataFrame()\n",
    "    data_dict[key]['age'] = hist['star_age']/1e6\n",
    "    data_dict[key]['log_cntr_Rho'] = hist['log_cntr_Rho'].values\n",
    "    data_dict[key]['log_cntr_T'] = hist['log_cntr_T'].values\n",
    "    data_dict[key]['log_Teff'] = hist['log_Teff'].values\n",
    "    data_dict[key] = pd.merge(data_dict[key], get_freqs_df_interp(k), on=\"age\")\n",
    "    k += 1"
   ]
  },
  {
   "cell_type": "code",
   "execution_count": 22,
   "metadata": {},
   "outputs": [
    {
     "data": {
      "text/plain": [
       "dict_keys(['M=1.7_Z=0.015_V=0_var=0.1', 'M=1.7_Z=0.015_V=0_var=0.3', 'M=1.7_Z=0.015_V=0_var=0.5', 'M=1.7_Z=0.015_V=0_var=0.7', 'M=1.7_Z=0.015_V=0_var=0.9', 'M=1.7_Z=0.015_V=0_var=1.1', 'M=1.7_Z=0.015_V=0_var=1.3', 'M=1.7_Z=0.015_V=0_var=1.5'])"
      ]
     },
     "execution_count": 22,
     "metadata": {},
     "output_type": "execute_result"
    }
   ],
   "source": [
    "data_dict.keys()"
   ]
  },
  {
   "cell_type": "code",
   "execution_count": 42,
   "metadata": {},
   "outputs": [
    {
     "data": {
      "text/plain": [
       "10.70737"
      ]
     },
     "execution_count": 42,
     "metadata": {},
     "output_type": "execute_result"
    }
   ],
   "source": [
    "# data_dict['M=1.7_Z=0.015_V=0_var=0.1'].iloc[0][6:16]\n",
    "data_dict['M=1.7_Z=0.015_V=0_var=0.1'].iloc[0][17:26].values"
   ]
  },
  {
   "cell_type": "code",
   "execution_count": 40,
   "metadata": {},
   "outputs": [
    {
     "ename": "IndexError",
     "evalue": "single positional indexer is out-of-bounds",
     "output_type": "error",
     "traceback": [
      "\u001b[0;31m---------------------------------------------------------------------------\u001b[0m",
      "\u001b[0;31mIndexError\u001b[0m                                Traceback (most recent call last)",
      "\u001b[1;32m/home/u1159830/workspace/MESA-tests/comp.ipynb Cell 8\u001b[0m in \u001b[0;36m7\n\u001b[1;32m      <a href='vscode-notebook-cell://ssh-remote%2Bfawkes.usq.edu.au/home/u1159830/workspace/MESA-tests/comp.ipynb#X54sdnNjb2RlLXJlbW90ZQ%3D%3D?line=4'>5</a>\u001b[0m freqs_alt_0 \u001b[39m=\u001b[39m row[\u001b[39m6\u001b[39m:\u001b[39m16\u001b[39m]\u001b[39m.\u001b[39mvalues\n\u001b[1;32m      <a href='vscode-notebook-cell://ssh-remote%2Bfawkes.usq.edu.au/home/u1159830/workspace/MESA-tests/comp.ipynb#X54sdnNjb2RlLXJlbW90ZQ%3D%3D?line=5'>6</a>\u001b[0m freqs_alt_1 \u001b[39m=\u001b[39m row[\u001b[39m17\u001b[39m:\u001b[39m26\u001b[39m]\u001b[39m.\u001b[39mvalues\n\u001b[0;32m----> <a href='vscode-notebook-cell://ssh-remote%2Bfawkes.usq.edu.au/home/u1159830/workspace/MESA-tests/comp.ipynb#X54sdnNjb2RlLXJlbW90ZQ%3D%3D?line=6'>7</a>\u001b[0m freqs_ref_0 \u001b[39m=\u001b[39m data_dict[key_ref]\u001b[39m.\u001b[39;49miloc[i][\u001b[39m6\u001b[39m:\u001b[39m16\u001b[39m]\n\u001b[1;32m      <a href='vscode-notebook-cell://ssh-remote%2Bfawkes.usq.edu.au/home/u1159830/workspace/MESA-tests/comp.ipynb#X54sdnNjb2RlLXJlbW90ZQ%3D%3D?line=7'>8</a>\u001b[0m freqs_ref_1 \u001b[39m=\u001b[39m data_dict[key_ref]\u001b[39m.\u001b[39miloc[i][\u001b[39m17\u001b[39m:\u001b[39m26\u001b[39m]\n\u001b[1;32m      <a href='vscode-notebook-cell://ssh-remote%2Bfawkes.usq.edu.au/home/u1159830/workspace/MESA-tests/comp.ipynb#X54sdnNjb2RlLXJlbW90ZQ%3D%3D?line=8'>9</a>\u001b[0m diff_0 \u001b[39m=\u001b[39m (freqs_ref_0 \u001b[39m-\u001b[39m freqs_alt_0)\u001b[39m/\u001b[39mfreqs_ref_0\n",
      "File \u001b[0;32m/opt/sw/python/python-3.9.13-jhn/lib/python3.9/site-packages/pandas/core/indexing.py:1073\u001b[0m, in \u001b[0;36m_LocationIndexer.__getitem__\u001b[0;34m(self, key)\u001b[0m\n\u001b[1;32m   1070\u001b[0m axis \u001b[39m=\u001b[39m \u001b[39mself\u001b[39m\u001b[39m.\u001b[39maxis \u001b[39mor\u001b[39;00m \u001b[39m0\u001b[39m\n\u001b[1;32m   1072\u001b[0m maybe_callable \u001b[39m=\u001b[39m com\u001b[39m.\u001b[39mapply_if_callable(key, \u001b[39mself\u001b[39m\u001b[39m.\u001b[39mobj)\n\u001b[0;32m-> 1073\u001b[0m \u001b[39mreturn\u001b[39;00m \u001b[39mself\u001b[39;49m\u001b[39m.\u001b[39;49m_getitem_axis(maybe_callable, axis\u001b[39m=\u001b[39;49maxis)\n",
      "File \u001b[0;32m/opt/sw/python/python-3.9.13-jhn/lib/python3.9/site-packages/pandas/core/indexing.py:1625\u001b[0m, in \u001b[0;36m_iLocIndexer._getitem_axis\u001b[0;34m(self, key, axis)\u001b[0m\n\u001b[1;32m   1622\u001b[0m     \u001b[39mraise\u001b[39;00m \u001b[39mTypeError\u001b[39;00m(\u001b[39m\"\u001b[39m\u001b[39mCannot index by location index with a non-integer key\u001b[39m\u001b[39m\"\u001b[39m)\n\u001b[1;32m   1624\u001b[0m \u001b[39m# validate the location\u001b[39;00m\n\u001b[0;32m-> 1625\u001b[0m \u001b[39mself\u001b[39;49m\u001b[39m.\u001b[39;49m_validate_integer(key, axis)\n\u001b[1;32m   1627\u001b[0m \u001b[39mreturn\u001b[39;00m \u001b[39mself\u001b[39m\u001b[39m.\u001b[39mobj\u001b[39m.\u001b[39m_ixs(key, axis\u001b[39m=\u001b[39maxis)\n",
      "File \u001b[0;32m/opt/sw/python/python-3.9.13-jhn/lib/python3.9/site-packages/pandas/core/indexing.py:1557\u001b[0m, in \u001b[0;36m_iLocIndexer._validate_integer\u001b[0;34m(self, key, axis)\u001b[0m\n\u001b[1;32m   1555\u001b[0m len_axis \u001b[39m=\u001b[39m \u001b[39mlen\u001b[39m(\u001b[39mself\u001b[39m\u001b[39m.\u001b[39mobj\u001b[39m.\u001b[39m_get_axis(axis))\n\u001b[1;32m   1556\u001b[0m \u001b[39mif\u001b[39;00m key \u001b[39m>\u001b[39m\u001b[39m=\u001b[39m len_axis \u001b[39mor\u001b[39;00m key \u001b[39m<\u001b[39m \u001b[39m-\u001b[39mlen_axis:\n\u001b[0;32m-> 1557\u001b[0m     \u001b[39mraise\u001b[39;00m \u001b[39mIndexError\u001b[39;00m(\u001b[39m\"\u001b[39m\u001b[39msingle positional indexer is out-of-bounds\u001b[39m\u001b[39m\"\u001b[39m)\n",
      "\u001b[0;31mIndexError\u001b[0m: single positional indexer is out-of-bounds"
     ]
    }
   ],
   "source": [
    "key_ref = \"M=1.7_Z=0.015_V=0_var=0.1\"\n",
    "mean_freqs_diff = []\n",
    "for key in data_dict.keys():\n",
    "    for i, row in data_dict[key].iterrows():\n",
    "        freqs_alt_0 = row[6:16].values\n",
    "        freqs_alt_1 = row[17:26].values\n",
    "        freqs_ref_0 = data_dict[key_ref].iloc[i][6:16].values\n",
    "        freqs_ref_1 = data_dict[key_ref].iloc[i][17:26].values\n",
    "        diff_0 = (freqs_ref_0 - freqs_alt_0)/freqs_ref_0\n",
    "        diff_1 = (freqs_ref_1 - freqs_alt_1)/freqs_ref_1\n",
    "        mean_freqs_diff.append( np.mean(np.append(diff_0, diff_1)) )"
   ]
  },
  {
   "cell_type": "code",
   "execution_count": null,
   "metadata": {},
   "outputs": [],
   "source": [
    "fig = plt.figure(figsize=(15, 15))\n",
    "\n",
    "ax1 = fig.add_subplot(2, 1, 1)\n"
   ]
  },
  {
   "cell_type": "code",
   "execution_count": null,
   "metadata": {},
   "outputs": [],
   "source": []
  }
 ],
 "metadata": {
  "kernelspec": {
   "display_name": "Python 3 (ipykernel)",
   "language": "python",
   "name": "python3"
  },
  "language_info": {
   "codemirror_mode": {
    "name": "ipython",
    "version": 3
   },
   "file_extension": ".py",
   "mimetype": "text/x-python",
   "name": "python",
   "nbconvert_exporter": "python",
   "pygments_lexer": "ipython3",
   "version": "3.9.13"
  },
  "orig_nbformat": 4
 },
 "nbformat": 4,
 "nbformat_minor": 2
}

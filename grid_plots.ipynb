{
 "cells": [
  {
   "cell_type": "code",
   "execution_count": 1,
   "metadata": {},
   "outputs": [],
   "source": [
    "import pandas as pd\n",
    "import glob\n",
    "import os\n",
    "import matplotlib.pyplot as plt\n",
    "import numpy as np\n",
    "import matplotlib as mpl\n",
    "import itertools\n",
    "from scipy.stats import linregress\n",
    "import seaborn as sns\n",
    "import matplotlib.pyplot as plt\n",
    "import matplotlib.gridspec as gridspec\n",
    "from scipy.interpolate import interp1d"
   ]
  },
  {
   "cell_type": "code",
   "execution_count": 2,
   "metadata": {},
   "outputs": [],
   "source": [
    "mpl.rcParams.update(mpl.rcParamsDefault)\n",
    "plt.rcParams[\"font.family\"] = \"serif\"\n",
    "plt.rcParams[\"font.serif\"] = [\"Times\"] + plt.rcParams[\"font.serif\"]\n",
    "mpl.rcParams['mathtext.fontset'] = 'stix'\n",
    "mpl.rcParams['mathtext.rm'] = 'Serif'\n",
    "mpl.rcParams['mathtext.it'] = 'Serif'\n",
    "mpl.rcParams['mathtext.bf'] = 'Serif'\n",
    "mpl.rcParams['text.usetex']= False\n",
    "plt.rc('axes', linewidth=2)\n",
    "plt.rc('font', weight='bold')"
   ]
  },
  {
   "cell_type": "code",
   "execution_count": 3,
   "metadata": {},
   "outputs": [
    {
     "name": "stdout",
     "output_type": "stream",
     "text": [
      "/home/u1159830/workspace/MESA-tests\n"
     ]
    }
   ],
   "source": [
    "!pwd"
   ]
  },
  {
   "attachments": {},
   "cell_type": "markdown",
   "metadata": {},
   "source": [
    "Get grid data"
   ]
  },
  {
   "cell_type": "code",
   "execution_count": 4,
   "metadata": {},
   "outputs": [],
   "source": [
    "def get_data(index, grid_dir):\n",
    "    prof_index_i = np.loadtxt(f\"{grid_dir}/profiles/profiles_{index}.index\", skiprows=1, dtype=int)\n",
    "    freqs_i = []\n",
    "    n_profs_i = []\n",
    "    freq_files = sorted(glob.glob(f\"{grid_dir}/gyre/freqs_track_{index}/profile*-freqs.dat\"), key=lambda x: int(os.path.basename(x).split('.')[0].split('profile')[1].split('-')[0]))\n",
    "    for file in freq_files:\n",
    "        freqs_i.append(pd.read_table(file, skiprows=5, sep='\\s+'))\n",
    "        n_profs_i.append(int(file.split('profile')[-1].split('-')[0]))\n",
    "    hist_i = pd.read_table(f\"{grid_dir}/histories/history_{index}.data\", skiprows=5, sep='\\s+')\n",
    "    return hist_i, freqs_i, n_profs_i, prof_index_i\n",
    "\n",
    "\n",
    "def get_all(grid_dir=\"../MESA-grid/grid_urot\"):\n",
    "    hists = []\n",
    "    freqs = []\n",
    "    n_profs = []\n",
    "    prof_index = []\n",
    "\n",
    "    for i in range(1, 14874):\n",
    "        try:\n",
    "            hist_i, freqs_i, n_profs_i, prof_index_i = get_data(i, grid_dir=grid_dir)\n",
    "            hists.append(hist_i)\n",
    "            freqs.append(freqs_i)\n",
    "            n_profs.append(n_profs_i)\n",
    "            prof_index.append(prof_index_i)\n",
    "        except:\n",
    "            print(f\"Failed to get data for grid index {i}\")\n",
    "    return hists, freqs, n_profs, prof_index\n"
   ]
  },
  {
   "cell_type": "code",
   "execution_count": 5,
   "metadata": {},
   "outputs": [],
   "source": [
    "data = get_all(\"../MESA-grid/grid_urot\")"
   ]
  },
  {
   "attachments": {},
   "cell_type": "markdown",
   "metadata": {},
   "source": [
    "$\\Delta \\nu$ and $\\epsilon$"
   ]
  },
  {
   "cell_type": "code",
   "execution_count": 5,
   "metadata": {},
   "outputs": [],
   "source": [
    "def fit_radial(ts, degree=0):\n",
    "    \"\"\"\n",
    "    Fits a straight line to the radial mode frequencies. Optionally, can be used on non-radial modes.\n",
    "    Only modes with radial orders 5-9 are used, as the ridges should be vertical here.\n",
    "    \n",
    "    Input: Theoretical (or observed) spectrum in pandas df format; mode degree to be used (default 0 = radial)\n",
    "    Output: The length of the series used, and the slope, intercept, r_value, p_value, and std_err of the line.\n",
    "    \"\"\"\n",
    "    n_min, n_max = 5, 9\n",
    "    try:\n",
    "        vert_freqs = ts.query(\"n_g == 0\").query(f\"l=={degree}\").query(f\"n_pg>={n_min}\").query(f\"n_pg<={n_max}\")[[\"n_pg\",\"Re(freq)\"]].values\n",
    "    except:\n",
    "        vert_freqs = ts.query(f\"l_obs=={degree}\").query(f\"n_obs>={n_min}\").query(f\"n_obs<={n_max}\")[[\"n_obs\",\"f_obs\"]].values\n",
    "    if len(vert_freqs>0):\n",
    "        slope, intercept, r_value, p_value, std_err = linregress(vert_freqs[:,0], vert_freqs[:,1])\n",
    "    else:\n",
    "        slope, intercept, r_value, p_value, std_err = np.zeros(5)\n",
    "    return len(vert_freqs), slope, intercept, r_value, p_value, std_err\n",
    "\n",
    "def model_epsilon(ts):\n",
    "    \"\"\"\n",
    "    Calls the fit_radial function to determine the epsilon value for a star's pulsations.\n",
    "    \n",
    "    Input: Theoretical (or observed) spectrum in pandas df format.\n",
    "    Output: Epsilon\n",
    "    \"\"\"\n",
    "    length_rad, slope, intercept, r_value, p_value, std_err = fit_radial(ts, degree=0)\n",
    "    eps = intercept/slope\n",
    "    if length_rad < 3:\n",
    "        length_dip, slope, intercept, r_value, p_value, std_err = fit_radial(ts, degree=1)\n",
    "        if length_dip > length_rad:\n",
    "            eps = intercept/slope - 0.5 # take the ell=1 values and subtract 0.5 to equal epsilon (ell=0)\n",
    "    return np.round(eps, 3)\n",
    "\n",
    "def model_Dnu(ts):\n",
    "    \"\"\"\n",
    "    Calls the fit_radial function to determine the Delta nu value for a star's pulsations.\n",
    "    \n",
    "    Input: Theoretical (or observed) spectrum in pandas df format.\n",
    "    Output: Delta nu\n",
    "    \"\"\"\n",
    "    length_rad, slope, intercept, r_value, p_value, std_err = fit_radial(ts, degree=0)\n",
    "    if length_rad < 3:\n",
    "        length_dip, slope, intercept, r_value, p_value, std_err = fit_radial(ts, degree=1)\n",
    "        if length_rad > length_dip:\n",
    "            # redo radial\n",
    "            length_rad, slope, intercept, r_value, p_value, std_err = fit_radial(ts, degree=0)\n",
    "    Dnu = slope\n",
    "    return np.round(Dnu, 3)\n",
    "\n",
    "def get_fit(l, freq):\n",
    "    Dnu = model_Dnu(freq)\n",
    "    epsilon = model_epsilon(freq)\n",
    "    return Dnu, epsilon"
   ]
  },
  {
   "cell_type": "code",
   "execution_count": null,
   "metadata": {},
   "outputs": [],
   "source": []
  },
  {
   "cell_type": "code",
   "execution_count": null,
   "metadata": {},
   "outputs": [],
   "source": []
  },
  {
   "cell_type": "code",
   "execution_count": null,
   "metadata": {},
   "outputs": [],
   "source": []
  },
  {
   "cell_type": "code",
   "execution_count": null,
   "metadata": {},
   "outputs": [],
   "source": []
  },
  {
   "cell_type": "code",
   "execution_count": null,
   "metadata": {},
   "outputs": [],
   "source": []
  },
  {
   "cell_type": "markdown",
   "metadata": {},
   "source": []
  }
 ],
 "metadata": {
  "kernelspec": {
   "display_name": "Python 3 (ipykernel)",
   "language": "python",
   "name": "python3"
  },
  "language_info": {
   "codemirror_mode": {
    "name": "ipython",
    "version": 3
   },
   "file_extension": ".py",
   "mimetype": "text/x-python",
   "name": "python",
   "nbconvert_exporter": "python",
   "pygments_lexer": "ipython3",
   "version": "3.10.8"
  },
  "orig_nbformat": 4
 },
 "nbformat": 4,
 "nbformat_minor": 2
}

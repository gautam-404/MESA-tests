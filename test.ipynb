{
 "cells": [
  {
   "cell_type": "code",
   "execution_count": 25,
   "metadata": {},
   "outputs": [],
   "source": [
    "import pandas as pd\n",
    "import numpy as np\n",
    "import matplotlib.pyplot as plt\n",
    "import seaborn as sns\n",
    "from scipy.interpolate import interp1d\n",
    "import matplotlib as mpl"
   ]
  },
  {
   "cell_type": "code",
   "execution_count": 152,
   "metadata": {},
   "outputs": [],
   "source": [
    "df = pd.read_csv(\"minisaurus_parallel.csv\").fillna(0)\n",
    "df = df[['Myr', 'm', 'z', 'v', 'tr_num', 'logL', 'log_R', 'log_g', 'surf_avg_omega_div_omega_crit',\n",
    "       'surf_avg_v_rot','density', 'teff', 'n1ell0m0', 'n2ell0m0',\n",
    "       'n3ell0m0', 'n4ell0m0', 'n5ell0m0', 'n6ell0m0', 'n7ell0m0', 'n8ell0m0',\n",
    "       'n9ell0m0', 'n10ell0m0', 'n1ell1m0', 'n2ell1m0', 'n3ell1m0', 'n4ell1m0',\n",
    "       'n5ell1m0', 'n6ell1m0', 'n7ell1m0', 'n8ell1m0', 'n9ell1m0', 'n10ell1m0',\n",
    "       'n1ell1dfreq', 'n2ell1dfreq', 'n3ell1dfreq',\n",
    "       'n4ell1dfreq', 'n5ell1dfreq', 'n6ell1dfreq', 'n7ell1dfreq',\n",
    "       'n8ell1dfreq', 'n9ell1dfreq', 'n10ell1dfreq','Dnu', 'eps']]"
   ]
  },
  {
   "cell_type": "code",
   "execution_count": 164,
   "metadata": {},
   "outputs": [],
   "source": [
    "ages = np.arange(0, 40, 0.01)\n",
    "\n",
    "dfs = []\n",
    "for tr_num in range(6):\n",
    "    this_df = df[df.tr_num == tr_num]\n",
    "    this_df = this_df.groupby('Myr').mean().reset_index()\n",
    "    new_df = pd.DataFrame()\n",
    "    new_df['Myr'] = ages\n",
    "    for col in this_df.columns:\n",
    "        if col not in ['Myr', 'tr_num', 'm', 'v', 'z']:\n",
    "            f = interp1d(this_df.Myr, this_df[col], kind='cubic', fill_value='extrapolate')\n",
    "            new_df[col] = f(ages)\n",
    "    dfs.append(new_df)\n"
   ]
  },
  {
   "cell_type": "code",
   "execution_count": 173,
   "metadata": {},
   "outputs": [
    {
     "data": {
      "text/plain": [
       "Index(['Myr', 'logL', 'log_R', 'log_g', 'surf_avg_omega_div_omega_crit',\n",
       "       'surf_avg_v_rot', 'density', 'teff', 'n1ell0m0', 'n2ell0m0', 'n3ell0m0',\n",
       "       'n4ell0m0', 'n5ell0m0', 'n6ell0m0', 'n7ell0m0', 'n8ell0m0', 'n9ell0m0',\n",
       "       'n10ell0m0', 'n1ell1m0', 'n2ell1m0', 'n3ell1m0', 'n4ell1m0', 'n5ell1m0',\n",
       "       'n6ell1m0', 'n7ell1m0', 'n8ell1m0', 'n9ell1m0', 'n10ell1m0',\n",
       "       'n1ell1dfreq', 'n2ell1dfreq', 'n3ell1dfreq', 'n4ell1dfreq',\n",
       "       'n5ell1dfreq', 'n6ell1dfreq', 'n7ell1dfreq', 'n8ell1dfreq',\n",
       "       'n9ell1dfreq', 'n10ell1dfreq', 'Dnu', 'eps'],\n",
       "      dtype='object')"
      ]
     },
     "execution_count": 173,
     "metadata": {},
     "output_type": "execute_result"
    }
   ],
   "source": [
    "dfs[0].columns"
   ]
  },
  {
   "cell_type": "code",
   "execution_count": 174,
   "metadata": {},
   "outputs": [],
   "source": [
    "cols0 = ['n1ell0m0', 'n2ell0m0', 'n3ell0m0',\n",
    "       'n4ell0m0', 'n5ell0m0', 'n6ell0m0', 'n7ell0m0', 'n8ell0m0', 'n9ell0m0',\n",
    "       'n10ell0m0']\n",
    "\n",
    "cols1 = ['n1ell1m0', 'n2ell1m0', 'n3ell1m0', 'n4ell1m0',\n",
    "         'n5ell1m0', 'n6ell1m0', 'n7ell1m0', 'n8ell1m0', 'n9ell1m0', 'n10ell1m0']\n",
    "\n",
    "df_ref = dfs[0]\n",
    "mean_diffs = []\n",
    "ages = []\n",
    "var_samples = np.round(np.append(np.arange(0.1, 1.4, 0.3), [1.25]), 3)\n",
    "\n",
    "for this_df in dfs:\n",
    "    this_mean = []\n",
    "    age = []\n",
    "    for i, row in this_df.iterrows():\n",
    "        freqs_alt_0 = row[cols0]\n",
    "        freqs_alt_1 = row[cols1]\n",
    "        freqs_ref_0 = this_df.iloc[i][cols0]\n",
    "        freqs_ref_1 = this_df.iloc[i][cols1]\n",
    "        diff_0 = ((freqs_ref_0 - freqs_alt_0)/freqs_ref_0)\n",
    "        diff_1 = ((freqs_ref_1 - freqs_alt_1)/freqs_ref_1)\n",
    "        this_mean.append(np.mean( np.append(diff_0, diff_1) ))\n",
    "        age.append(row[\"Myr\"])\n",
    "        if row[\"Myr\"] > 40:\n",
    "            break\n",
    "    ages.append(age)\n",
    "    mean_diffs.append(this_mean)"
   ]
  },
  {
   "cell_type": "code",
   "execution_count": 175,
   "metadata": {},
   "outputs": [
    {
     "ename": "IndexError",
     "evalue": "list index out of range",
     "output_type": "error",
     "traceback": [
      "\u001b[0;31m---------------------------------------------------------------------------\u001b[0m",
      "\u001b[0;31mIndexError\u001b[0m                                Traceback (most recent call last)",
      "\u001b[1;32m/home/u1159830/workspace/MESA-tests/test.ipynb Cell 6\u001b[0m in \u001b[0;36m2\n\u001b[1;32m     <a href='vscode-notebook-cell://ssh-remote%2Bfawkes.usq.edu.au/home/u1159830/workspace/MESA-tests/test.ipynb#W5sdnNjb2RlLXJlbW90ZQ%3D%3D?line=17'>18</a>\u001b[0m ax1 \u001b[39m=\u001b[39m plt\u001b[39m.\u001b[39msubplot(\u001b[39m2\u001b[39m, \u001b[39m1\u001b[39m, \u001b[39m1\u001b[39m)\n\u001b[1;32m     <a href='vscode-notebook-cell://ssh-remote%2Bfawkes.usq.edu.au/home/u1159830/workspace/MESA-tests/test.ipynb#W5sdnNjb2RlLXJlbW90ZQ%3D%3D?line=18'>19</a>\u001b[0m \u001b[39mfor\u001b[39;00m ind, var \u001b[39min\u001b[39;00m \u001b[39menumerate\u001b[39m(var_samples):\n\u001b[1;32m     <a href='vscode-notebook-cell://ssh-remote%2Bfawkes.usq.edu.au/home/u1159830/workspace/MESA-tests/test.ipynb#W5sdnNjb2RlLXJlbW90ZQ%3D%3D?line=19'>20</a>\u001b[0m     \u001b[39m# plt.plot(age, mean_diffs[ind], color=palette[ind], lw=2, linestyle=linestyle_tuple[ind][1])\u001b[39;00m\n\u001b[0;32m---> <a href='vscode-notebook-cell://ssh-remote%2Bfawkes.usq.edu.au/home/u1159830/workspace/MESA-tests/test.ipynb#W5sdnNjb2RlLXJlbW90ZQ%3D%3D?line=20'>21</a>\u001b[0m     plt\u001b[39m.\u001b[39mplot(ages[ind], mean_diffs[ind], color\u001b[39m=\u001b[39mpalette[ind], lw\u001b[39m=\u001b[39m\u001b[39m2\u001b[39m)\n\u001b[1;32m     <a href='vscode-notebook-cell://ssh-remote%2Bfawkes.usq.edu.au/home/u1159830/workspace/MESA-tests/test.ipynb#W5sdnNjb2RlLXJlbW90ZQ%3D%3D?line=21'>22</a>\u001b[0m plt\u001b[39m.\u001b[39mplot(ages[\u001b[39m-\u001b[39m\u001b[39m1\u001b[39m], mean_diffs[\u001b[39m-\u001b[39m\u001b[39m1\u001b[39m], lw\u001b[39m=\u001b[39m\u001b[39m2\u001b[39m, color\u001b[39m=\u001b[39m\u001b[39m'\u001b[39m\u001b[39mred\u001b[39m\u001b[39m'\u001b[39m)\n\u001b[1;32m     <a href='vscode-notebook-cell://ssh-remote%2Bfawkes.usq.edu.au/home/u1159830/workspace/MESA-tests/test.ipynb#W5sdnNjb2RlLXJlbW90ZQ%3D%3D?line=23'>24</a>\u001b[0m title_font \u001b[39m=\u001b[39m mpl\u001b[39m.\u001b[39mfont_manager\u001b[39m.\u001b[39mFontProperties(weight\u001b[39m=\u001b[39m\u001b[39m'\u001b[39m\u001b[39mblack\u001b[39m\u001b[39m'\u001b[39m,\n\u001b[1;32m     <a href='vscode-notebook-cell://ssh-remote%2Bfawkes.usq.edu.au/home/u1159830/workspace/MESA-tests/test.ipynb#W5sdnNjb2RlLXJlbW90ZQ%3D%3D?line=24'>25</a>\u001b[0m                                    style\u001b[39m=\u001b[39m\u001b[39m'\u001b[39m\u001b[39mnormal\u001b[39m\u001b[39m'\u001b[39m, size\u001b[39m=\u001b[39m\u001b[39m20\u001b[39m)\n",
      "\u001b[0;31mIndexError\u001b[0m: list index out of range"
     ]
    },
    {
     "data": {
      "image/png": "[encoded data removed]",
      "text/plain": [
       "<Figure size 1500x1000 with 1 Axes>"
      ]
     },
     "metadata": {},
     "output_type": "display_data"
    }
   ],
   "source": [
    "fig = plt.figure(figsize=(15, 10))\n",
    "palette = sns.color_palette(\"viridis\", len(var_samples))\n",
    "# palette = sns.color_palette(\"colorblind\", len(var_samples))\n",
    "linestyle_tuple = [\n",
    "     ('dotted',                (0, (1, 1))),\n",
    "     ('densely dotted',        (0, (1, 1))),\n",
    "     ('long dash with offset', (5, (10, 3))),\n",
    "     ('dashed',                (0, (5, 5))),\n",
    "     ('densely dashed',        (0, (5, 1))),\n",
    "\n",
    "     ('dashdotted',            (0, (3, 5, 1, 5))),\n",
    "     ('densely dashdotted',    (0, (3, 1, 1, 1))),\n",
    "\n",
    "     ('dashdotdotted',         (0, (3, 5, 1, 5, 1, 5))),\n",
    "     ('densely dashdotdotted', (0, (3, 1, 1, 1, 1, 1)))]\n",
    "\n",
    "\n",
    "ax1 = plt.subplot(2, 1, 1)\n",
    "for ind, var in enumerate(var_samples):\n",
    "    # plt.plot(age, mean_diffs[ind], color=palette[ind], lw=2, linestyle=linestyle_tuple[ind][1])\n",
    "    plt.plot(ages[ind], mean_diffs[ind], color=palette[ind], lw=2)\n",
    "plt.plot(ages[-1], mean_diffs[-1], lw=2, color='red')\n",
    "\n",
    "title_font = mpl.font_manager.FontProperties(weight='black',\n",
    "                                   style='normal', size=20)\n",
    "font = mpl.font_manager.FontProperties(weight='bold',\n",
    "                                   style='normal', size=18)\n",
    "plt.xlim([5, 20])\n",
    "plt.ylim([-0.005, 0.011])\n",
    "plt.xlabel(r'$\\bf{Age\\ (Myr)}$', size=20)\n",
    "plt.ylabel(r'$\\bf{\\langle{\\delta f/f}} \\rangle\\ \\rm{(\\%)}$', size=20)\n",
    "plt.gca().xaxis.set_tick_params(labelsize=20)\n",
    "plt.gca().yaxis.set_tick_params(labelsize=20)\n",
    "rect = mpl.patches.Rectangle((15, -0.001), 20, 0.004, linewidth=1, edgecolor='k', facecolor='grey', alpha=0.2)\n",
    "ax1.add_patch(rect)\n",
    "\n",
    "\n",
    "# ax2 = plt.subplot(2, 1, 2)\n",
    "# for ind, var in enumerate(var_samples):\n",
    "#     # plt.plot(age, mean_diffs[ind], color=palette[ind], lw=2, linestyle=linestyle_tuple[ind][1])\n",
    "#     plt.plot(ages[ind], mean_diffs[ind], color=palette[ind], lw=2)\n",
    "# plt.plot(ages[-1], mean_diffs[-1], lw=2, color='red')\n",
    "# plt.xlabel(r'$\\bf{Age\\ (Myr)}$', size=20)\n",
    "# plt.ylabel(r'$\\bf{\\langle{\\delta f/f}} \\rangle\\ \\rm{(\\%)}$', size=20)\n",
    "# plt.gca().xaxis.set_tick_params(labelsize=20)\n",
    "# plt.gca().yaxis.set_tick_params(labelsize=20)\n",
    "# plt.xlim([15, 500])\n",
    "# plt.ylim([-0.0001, 0.0003])\n",
    "# plt.subplots_adjust(wspace=0, hspace=0.3)\n",
    "\n",
    "\n",
    "Z = [[0,0],[0,0]]\n",
    "levels = np.array(sorted(var_samples)+[1.7])\n",
    "contour = plt.contourf(Z, levels, cmap=mpl.colors.ListedColormap(palette))\n",
    "axes = [ax1]\n",
    "cb = plt.colorbar(contour, ticks=levels+0.1, label=r'$\\bf{mesh\\_delta\\_coeff}$', ax=axes)\n",
    "cb.set_ticklabels([f\"{level:.1f}\" for level in levels])\n",
    "\n",
    "# ax1.yaxis.set_major_formatter(mtick.PercentFormatter(xmax=1, decimals=1, symbol=''))\n",
    "# ax2.yaxis.set_major_formatter(mtick.PercentFormatter(xmax=1, decimals=1, symbol=''))\n",
    "\n",
    "fig.align_ylabels([ax1])\n",
    "plt.show()\n",
    "# plt.savefig(f'../figures/mean_diff_panels.pdf', dpi=300, bbox_inches='tight')"
   ]
  },
  {
   "cell_type": "code",
   "execution_count": null,
   "metadata": {},
   "outputs": [],
   "source": []
  }
 ],
 "metadata": {
  "kernelspec": {
   "display_name": "Python 3 (ipykernel)",
   "language": "python",
   "name": "python3"
  },
  "orig_nbformat": 4
 },
 "nbformat": 4,
 "nbformat_minor": 2
}
